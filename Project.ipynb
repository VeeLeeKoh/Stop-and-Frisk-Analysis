{
 "cells": [
  {
   "cell_type": "markdown",
   "metadata": {
    "colab_type": "text",
    "id": "9PvQ0SNfXU4e"
   },
   "source": [
    "# NYPD Stop & Frisk Data Analysis Project\n",
    "#### Malik Ouda, Vee Lee Koh, Clay Roberts, Noah Placke\n",
    "---\n",
    "## Stop, Question and Frisk Data\n",
    "This dataset is provided by the New York Police Department and contains information about the stop, question, and frisk policy implemented by the NYPD. It is a controversial and highly criticized policy in which a police officer suspecting someone of wrongdoing is able to stop them, question them, and search them for a weapon. The policy has been highly criticized for being a form of racial profiling.\n",
    "\n",
    "The full dataset contains records of this policy dating from 2003 to 2019. It includes a record for each stop made, with information about the time of the stop, the location of the stop, information about the officer, the suspect, and other various features.\n",
    "\n",
    "The data that will be used in this analysis is from the year 2011, which saw the highest number of stops of any year. This data will be used to attempt to **predict whether someone will get frisked** based on the circumstances of the stop and the features of the individual suspect.\n",
    "\n",
    "We would like to determine what features are most signifcant in determining whether a suspect gets frisked by an officer. Our results could be used to ensure fair and unbiased policing are practiced by the NYPD. This issue is especially vital to reduce police brutality and racial profiling.  \n",
    "\n",
    "---\n",
    "### References\n",
    "- <a href='https://www.nyclu.org/en/stop-and-frisk-data'> NY Civil Liberty Union Stop and Frisk statistics </a>\n",
    "- <a href='https://www1.nyc.gov/site/nypd/stats/reports-analysis/stopfrisk.page'> NYPD Stop and Frisk Data </a>\n"
   ]
  },
  {
   "cell_type": "markdown",
   "metadata": {
    "colab_type": "text",
    "id": "01aErYa2_mIk"
   },
   "source": [
    "## Load 2011 Stop & Frisk Dataset"
   ]
  },
  {
   "cell_type": "code",
   "execution_count": 1,
   "metadata": {
    "colab": {
     "base_uri": "https://localhost:8080/",
     "height": 71
    },
    "colab_type": "code",
    "executionInfo": {
     "elapsed": 1406,
     "status": "ok",
     "timestamp": 1587353621922,
     "user": {
      "displayName": "Vee Lee Koh",
      "photoUrl": "https://lh3.googleusercontent.com/a-/AOh14Gjj2fkNUadlioLjx3UkcyKd5Ff-x9Vb-9bwf55Q6g=s64",
      "userId": "02870426395196104300"
     },
     "user_tz": 300
    },
    "id": "DOWNTAhej0TH",
    "outputId": "8f98eff0-175f-492d-c18f-ae8c1fe1f47e"
   },
   "outputs": [],
   "source": [
    "# Import Statements\n",
    "import pandas as pd\n",
    "import numpy as np\n",
    "import sklearn as sk\n",
    "import matplotlib.pyplot as plt\n",
    "import seaborn as sns\n",
    "from sklearn.preprocessing import MinMaxScaler\n",
    "from sklearn.preprocessing import StandardScaler\n",
    "from sklearn.model_selection import train_test_split\n",
    "from sklearn.model_selection import GridSearchCV\n",
    "from sklearn.model_selection import cross_val_score\n",
    "from sklearn.svm import SVC\n",
    "from sklearn.pipeline import Pipeline\n",
    "from sklearn.decomposition import PCA\n",
    "from sklearn.neighbors import KNeighborsClassifier\n",
    "from sklearn.naive_bayes import GaussianNB \n",
    "from sklearn.model_selection import cross_val_predict\n",
    "from sklearn.metrics import confusion_matrix\n",
    "from sklearn.metrics import classification_report"
   ]
  },
  {
   "cell_type": "code",
   "execution_count": 3,
   "metadata": {
    "colab": {
     "base_uri": "https://localhost:8080/",
     "height": 422
    },
    "colab_type": "code",
    "executionInfo": {
     "elapsed": 14341,
     "status": "ok",
     "timestamp": 1587353635988,
     "user": {
      "displayName": "Vee Lee Koh",
      "photoUrl": "https://lh3.googleusercontent.com/a-/AOh14Gjj2fkNUadlioLjx3UkcyKd5Ff-x9Vb-9bwf55Q6g=s64",
      "userId": "02870426395196104300"
     },
     "user_tz": 300
    },
    "id": "sZYKWF-T_8Nv",
    "outputId": "e7d65cb1-be8a-4a36-c97b-2decc7b10672"
   },
   "outputs": [
    {
     "data": {
      "text/html": [
       "<div>\n",
       "<style scoped>\n",
       "    .dataframe tbody tr th:only-of-type {\n",
       "        vertical-align: middle;\n",
       "    }\n",
       "\n",
       "    .dataframe tbody tr th {\n",
       "        vertical-align: top;\n",
       "    }\n",
       "\n",
       "    .dataframe thead th {\n",
       "        text-align: right;\n",
       "    }\n",
       "</style>\n",
       "<table border=\"1\" class=\"dataframe\">\n",
       "  <thead>\n",
       "    <tr style=\"text-align: right;\">\n",
       "      <th></th>\n",
       "      <th>year</th>\n",
       "      <th>pct</th>\n",
       "      <th>ser_num</th>\n",
       "      <th>datestop</th>\n",
       "      <th>timestop</th>\n",
       "      <th>recstat</th>\n",
       "      <th>inout</th>\n",
       "      <th>trhsloc</th>\n",
       "      <th>perobs</th>\n",
       "      <th>crimsusp</th>\n",
       "      <th>...</th>\n",
       "      <th>zip</th>\n",
       "      <th>addrpct</th>\n",
       "      <th>sector</th>\n",
       "      <th>beat</th>\n",
       "      <th>post</th>\n",
       "      <th>xcoord</th>\n",
       "      <th>ycoord</th>\n",
       "      <th>dettypcm</th>\n",
       "      <th>linecm</th>\n",
       "      <th>detailcm</th>\n",
       "    </tr>\n",
       "  </thead>\n",
       "  <tbody>\n",
       "    <tr>\n",
       "      <th>0</th>\n",
       "      <td>2011</td>\n",
       "      <td>102</td>\n",
       "      <td>185</td>\n",
       "      <td>1012011</td>\n",
       "      <td>0</td>\n",
       "      <td>A</td>\n",
       "      <td>O</td>\n",
       "      <td>P</td>\n",
       "      <td>1</td>\n",
       "      <td>BURGLARY</td>\n",
       "      <td>...</td>\n",
       "      <td></td>\n",
       "      <td>102</td>\n",
       "      <td>B</td>\n",
       "      <td></td>\n",
       "      <td></td>\n",
       "      <td>1030708</td>\n",
       "      <td>194185</td>\n",
       "      <td>CM</td>\n",
       "      <td>1</td>\n",
       "      <td>14</td>\n",
       "    </tr>\n",
       "    <tr>\n",
       "      <th>1</th>\n",
       "      <td>2011</td>\n",
       "      <td>115</td>\n",
       "      <td>50</td>\n",
       "      <td>1012011</td>\n",
       "      <td>5</td>\n",
       "      <td>A</td>\n",
       "      <td>O</td>\n",
       "      <td>P</td>\n",
       "      <td>1</td>\n",
       "      <td>FEL</td>\n",
       "      <td>...</td>\n",
       "      <td></td>\n",
       "      <td>115</td>\n",
       "      <td>I</td>\n",
       "      <td></td>\n",
       "      <td></td>\n",
       "      <td>1021302</td>\n",
       "      <td>213563</td>\n",
       "      <td>CM</td>\n",
       "      <td>1</td>\n",
       "      <td>85</td>\n",
       "    </tr>\n",
       "    <tr>\n",
       "      <th>2</th>\n",
       "      <td>2011</td>\n",
       "      <td>100</td>\n",
       "      <td>4</td>\n",
       "      <td>1012011</td>\n",
       "      <td>7</td>\n",
       "      <td>1</td>\n",
       "      <td>O</td>\n",
       "      <td>H</td>\n",
       "      <td>1</td>\n",
       "      <td>CPW</td>\n",
       "      <td>...</td>\n",
       "      <td></td>\n",
       "      <td>100</td>\n",
       "      <td>B</td>\n",
       "      <td>4</td>\n",
       "      <td>34</td>\n",
       "      <td>1037668</td>\n",
       "      <td>153549</td>\n",
       "      <td>CM</td>\n",
       "      <td>1</td>\n",
       "      <td>20</td>\n",
       "    </tr>\n",
       "    <tr>\n",
       "      <th>3</th>\n",
       "      <td>2011</td>\n",
       "      <td>100</td>\n",
       "      <td>3</td>\n",
       "      <td>1012011</td>\n",
       "      <td>7</td>\n",
       "      <td>1</td>\n",
       "      <td>O</td>\n",
       "      <td>H</td>\n",
       "      <td>1</td>\n",
       "      <td>CPW</td>\n",
       "      <td>...</td>\n",
       "      <td></td>\n",
       "      <td>100</td>\n",
       "      <td>B</td>\n",
       "      <td>4</td>\n",
       "      <td>34</td>\n",
       "      <td>1037668</td>\n",
       "      <td>153549</td>\n",
       "      <td>CM</td>\n",
       "      <td>1</td>\n",
       "      <td>20</td>\n",
       "    </tr>\n",
       "    <tr>\n",
       "      <th>4</th>\n",
       "      <td>2011</td>\n",
       "      <td>100</td>\n",
       "      <td>1</td>\n",
       "      <td>1012011</td>\n",
       "      <td>7</td>\n",
       "      <td>1</td>\n",
       "      <td>O</td>\n",
       "      <td>H</td>\n",
       "      <td>1</td>\n",
       "      <td>CPW</td>\n",
       "      <td>...</td>\n",
       "      <td></td>\n",
       "      <td>100</td>\n",
       "      <td>B</td>\n",
       "      <td>4</td>\n",
       "      <td>34</td>\n",
       "      <td>1037668</td>\n",
       "      <td>153549</td>\n",
       "      <td>CM</td>\n",
       "      <td>1</td>\n",
       "      <td>20</td>\n",
       "    </tr>\n",
       "  </tbody>\n",
       "</table>\n",
       "<p>5 rows × 112 columns</p>\n",
       "</div>"
      ],
      "text/plain": [
       "   year  pct  ser_num  datestop  timestop recstat inout trhsloc  perobs  \\\n",
       "0  2011  102      185   1012011         0       A     O       P       1   \n",
       "1  2011  115       50   1012011         5       A     O       P       1   \n",
       "2  2011  100        4   1012011         7       1     O       H       1   \n",
       "3  2011  100        3   1012011         7       1     O       H       1   \n",
       "4  2011  100        1   1012011         7       1     O       H       1   \n",
       "\n",
       "   crimsusp  ...  zip addrpct sector          beat post   xcoord  \\\n",
       "0  BURGLARY  ...          102      B                     1030708   \n",
       "1       FEL  ...          115      I                     1021302   \n",
       "2       CPW  ...          100      B             4   34  1037668   \n",
       "3       CPW  ...          100      B             4   34  1037668   \n",
       "4       CPW  ...          100      B             4   34  1037668   \n",
       "\n",
       "         ycoord dettypcm  linecm  detailcm  \n",
       "0        194185       CM       1        14  \n",
       "1        213563       CM       1        85  \n",
       "2        153549       CM       1        20  \n",
       "3        153549       CM       1        20  \n",
       "4        153549       CM       1        20  \n",
       "\n",
       "[5 rows x 112 columns]"
      ]
     },
     "execution_count": 3,
     "metadata": {},
     "output_type": "execute_result"
    }
   ],
   "source": [
    "# Load the comma delimited data file\n",
    "path = \"./2011_Stop_and_Frisk.csv\"\n",
    "initial_data = pd.read_csv(path, encoding='latin-1', low_memory=False) \n",
    "initial_data.head()"
   ]
  },
  {
   "cell_type": "code",
   "execution_count": 4,
   "metadata": {
    "colab": {
     "base_uri": "https://localhost:8080/",
     "height": 34
    },
    "colab_type": "code",
    "executionInfo": {
     "elapsed": 13163,
     "status": "ok",
     "timestamp": 1587353635995,
     "user": {
      "displayName": "Vee Lee Koh",
      "photoUrl": "https://lh3.googleusercontent.com/a-/AOh14Gjj2fkNUadlioLjx3UkcyKd5Ff-x9Vb-9bwf55Q6g=s64",
      "userId": "02870426395196104300"
     },
     "user_tz": 300
    },
    "id": "QDqzo_oJXkCF",
    "outputId": "dcc3c3cc-430f-46bb-a7ce-e2c2778e27db"
   },
   "outputs": [
    {
     "data": {
      "text/plain": [
       "(685724, 112)"
      ]
     },
     "execution_count": 4,
     "metadata": {},
     "output_type": "execute_result"
    }
   ],
   "source": [
    "# Check size of dataset\n",
    "initial_data.shape"
   ]
  },
  {
   "cell_type": "code",
   "execution_count": 5,
   "metadata": {
    "colab": {
     "base_uri": "https://localhost:8080/",
     "height": 34
    },
    "colab_type": "code",
    "executionInfo": {
     "elapsed": 16557,
     "status": "ok",
     "timestamp": 1587353639737,
     "user": {
      "displayName": "Vee Lee Koh",
      "photoUrl": "https://lh3.googleusercontent.com/a-/AOh14Gjj2fkNUadlioLjx3UkcyKd5Ff-x9Vb-9bwf55Q6g=s64",
      "userId": "02870426395196104300"
     },
     "user_tz": 300
    },
    "id": "2c_JYk6mTRaD",
    "outputId": "c70aa241-52bb-4eff-b516-f1c7bdc9d1a6"
   },
   "outputs": [
    {
     "data": {
      "text/plain": [
       "(0, 112)"
      ]
     },
     "execution_count": 5,
     "metadata": {},
     "output_type": "execute_result"
    }
   ],
   "source": [
    "# Check for presence of duplicate rows before filtering to relevant features\n",
    "initial_data[initial_data.duplicated()].shape"
   ]
  },
  {
   "cell_type": "markdown",
   "metadata": {
    "colab_type": "text",
    "id": "a3fzqZTDX2UX"
   },
   "source": [
    "## Data Preprocessing\n",
    "\n",
    "Cleaning the data and prepping it"
   ]
  },
  {
   "cell_type": "code",
   "execution_count": 6,
   "metadata": {
    "colab": {},
    "colab_type": "code",
    "id": "XnsPh4M6hH2i"
   },
   "outputs": [],
   "source": [
    "# Extract relevant features (predictor and response) that will be utilized for analysis and remove those that will result in data leakage\n",
    "# Precint (pct) is retained to clean city feature, but will be removed later on due to difficulty in binning them into separate pricints\n",
    "\n",
    "# snf_data_pre = 'stop and frisk' data before preliminary processing\n",
    "# Predictor features include description of suspect, officer behaviour and circumstances of the stop\n",
    "# Response feature is whether the suspect was frisked\n",
    "snf_data_pre = initial_data[['sex','race','age','ht_feet','ht_inch','weight','haircolr','eyecolor','build',\n",
    "                            'city','pct','timestop','inout','trhsloc','typeofid','othpers',\n",
    "                            'explnstp','offunif','officrid','offverb','offshld',\n",
    "                            'ac_rept','ac_proxm','ac_evasv','ac_assoc','ac_cgdir','ac_incid','ac_time','ac_stsnd',\n",
    "                            'frisked']].copy()"
   ]
  },
  {
   "cell_type": "code",
   "execution_count": 7,
   "metadata": {
    "colab": {
     "base_uri": "https://localhost:8080/",
     "height": 231
    },
    "colab_type": "code",
    "executionInfo": {
     "elapsed": 12287,
     "status": "ok",
     "timestamp": 1587353640050,
     "user": {
      "displayName": "Vee Lee Koh",
      "photoUrl": "https://lh3.googleusercontent.com/a-/AOh14Gjj2fkNUadlioLjx3UkcyKd5Ff-x9Vb-9bwf55Q6g=s64",
      "userId": "02870426395196104300"
     },
     "user_tz": 300
    },
    "id": "PlSzCXoAC22f",
    "outputId": "ce0ab5f3-0f84-4ce1-c559-5f439d930c3c"
   },
   "outputs": [
    {
     "data": {
      "text/html": [
       "<div>\n",
       "<style scoped>\n",
       "    .dataframe tbody tr th:only-of-type {\n",
       "        vertical-align: middle;\n",
       "    }\n",
       "\n",
       "    .dataframe tbody tr th {\n",
       "        vertical-align: top;\n",
       "    }\n",
       "\n",
       "    .dataframe thead th {\n",
       "        text-align: right;\n",
       "    }\n",
       "</style>\n",
       "<table border=\"1\" class=\"dataframe\">\n",
       "  <thead>\n",
       "    <tr style=\"text-align: right;\">\n",
       "      <th></th>\n",
       "      <th>count</th>\n",
       "      <th>mean</th>\n",
       "      <th>std</th>\n",
       "      <th>min</th>\n",
       "      <th>25%</th>\n",
       "      <th>50%</th>\n",
       "      <th>75%</th>\n",
       "      <th>max</th>\n",
       "    </tr>\n",
       "  </thead>\n",
       "  <tbody>\n",
       "    <tr>\n",
       "      <th>age</th>\n",
       "      <td>685724.0</td>\n",
       "      <td>29.398764</td>\n",
       "      <td>37.221556</td>\n",
       "      <td>0.0</td>\n",
       "      <td>19.0</td>\n",
       "      <td>24.0</td>\n",
       "      <td>34.0</td>\n",
       "      <td>999.0</td>\n",
       "    </tr>\n",
       "    <tr>\n",
       "      <th>ht_feet</th>\n",
       "      <td>685724.0</td>\n",
       "      <td>5.179049</td>\n",
       "      <td>0.394506</td>\n",
       "      <td>3.0</td>\n",
       "      <td>5.0</td>\n",
       "      <td>5.0</td>\n",
       "      <td>5.0</td>\n",
       "      <td>7.0</td>\n",
       "    </tr>\n",
       "    <tr>\n",
       "      <th>ht_inch</th>\n",
       "      <td>685724.0</td>\n",
       "      <td>6.415804</td>\n",
       "      <td>3.342623</td>\n",
       "      <td>0.0</td>\n",
       "      <td>4.0</td>\n",
       "      <td>7.0</td>\n",
       "      <td>9.0</td>\n",
       "      <td>11.0</td>\n",
       "    </tr>\n",
       "    <tr>\n",
       "      <th>weight</th>\n",
       "      <td>685724.0</td>\n",
       "      <td>169.323824</td>\n",
       "      <td>37.683693</td>\n",
       "      <td>0.0</td>\n",
       "      <td>150.0</td>\n",
       "      <td>165.0</td>\n",
       "      <td>180.0</td>\n",
       "      <td>999.0</td>\n",
       "    </tr>\n",
       "    <tr>\n",
       "      <th>pct</th>\n",
       "      <td>685724.0</td>\n",
       "      <td>67.375982</td>\n",
       "      <td>32.736376</td>\n",
       "      <td>1.0</td>\n",
       "      <td>42.0</td>\n",
       "      <td>71.0</td>\n",
       "      <td>101.0</td>\n",
       "      <td>123.0</td>\n",
       "    </tr>\n",
       "    <tr>\n",
       "      <th>timestop</th>\n",
       "      <td>685724.0</td>\n",
       "      <td>1435.877044</td>\n",
       "      <td>727.141924</td>\n",
       "      <td>0.0</td>\n",
       "      <td>1034.0</td>\n",
       "      <td>1630.0</td>\n",
       "      <td>2028.0</td>\n",
       "      <td>2359.0</td>\n",
       "    </tr>\n",
       "  </tbody>\n",
       "</table>\n",
       "</div>"
      ],
      "text/plain": [
       "             count         mean         std  min     25%     50%     75%  \\\n",
       "age       685724.0    29.398764   37.221556  0.0    19.0    24.0    34.0   \n",
       "ht_feet   685724.0     5.179049    0.394506  3.0     5.0     5.0     5.0   \n",
       "ht_inch   685724.0     6.415804    3.342623  0.0     4.0     7.0     9.0   \n",
       "weight    685724.0   169.323824   37.683693  0.0   150.0   165.0   180.0   \n",
       "pct       685724.0    67.375982   32.736376  1.0    42.0    71.0   101.0   \n",
       "timestop  685724.0  1435.877044  727.141924  0.0  1034.0  1630.0  2028.0   \n",
       "\n",
       "             max  \n",
       "age        999.0  \n",
       "ht_feet      7.0  \n",
       "ht_inch     11.0  \n",
       "weight     999.0  \n",
       "pct        123.0  \n",
       "timestop  2359.0  "
      ]
     },
     "execution_count": 7,
     "metadata": {},
     "output_type": "execute_result"
    }
   ],
   "source": [
    "# Numeric features\n",
    "snf_data_pre.describe().transpose()"
   ]
  },
  {
   "cell_type": "code",
   "execution_count": 8,
   "metadata": {
    "colab": {
     "base_uri": "https://localhost:8080/",
     "height": 201
    },
    "colab_type": "code",
    "executionInfo": {
     "elapsed": 12399,
     "status": "ok",
     "timestamp": 1587353640434,
     "user": {
      "displayName": "Vee Lee Koh",
      "photoUrl": "https://lh3.googleusercontent.com/a-/AOh14Gjj2fkNUadlioLjx3UkcyKd5Ff-x9Vb-9bwf55Q6g=s64",
      "userId": "02870426395196104300"
     },
     "user_tz": 300
    },
    "id": "QPzEtOuJNfZm",
    "outputId": "0478b384-404e-45b4-bb30-c6fb10d56364"
   },
   "outputs": [
    {
     "data": {
      "text/html": [
       "<div>\n",
       "<style scoped>\n",
       "    .dataframe tbody tr th:only-of-type {\n",
       "        vertical-align: middle;\n",
       "    }\n",
       "\n",
       "    .dataframe tbody tr th {\n",
       "        vertical-align: top;\n",
       "    }\n",
       "\n",
       "    .dataframe thead th {\n",
       "        text-align: right;\n",
       "    }\n",
       "</style>\n",
       "<table border=\"1\" class=\"dataframe\">\n",
       "  <thead>\n",
       "    <tr style=\"text-align: right;\">\n",
       "      <th></th>\n",
       "      <th>count</th>\n",
       "      <th>mean</th>\n",
       "      <th>std</th>\n",
       "      <th>min</th>\n",
       "      <th>25%</th>\n",
       "      <th>50%</th>\n",
       "      <th>75%</th>\n",
       "      <th>max</th>\n",
       "    </tr>\n",
       "  </thead>\n",
       "  <tbody>\n",
       "    <tr>\n",
       "      <th>age</th>\n",
       "      <td>685724.0</td>\n",
       "      <td>29.398764</td>\n",
       "      <td>37.221556</td>\n",
       "      <td>0.0</td>\n",
       "      <td>19.0</td>\n",
       "      <td>24.0</td>\n",
       "      <td>34.0</td>\n",
       "      <td>999.0</td>\n",
       "    </tr>\n",
       "    <tr>\n",
       "      <th>height</th>\n",
       "      <td>685724.0</td>\n",
       "      <td>68.564389</td>\n",
       "      <td>3.181265</td>\n",
       "      <td>36.0</td>\n",
       "      <td>67.0</td>\n",
       "      <td>69.0</td>\n",
       "      <td>71.0</td>\n",
       "      <td>95.0</td>\n",
       "    </tr>\n",
       "    <tr>\n",
       "      <th>weight</th>\n",
       "      <td>685724.0</td>\n",
       "      <td>169.323824</td>\n",
       "      <td>37.683693</td>\n",
       "      <td>0.0</td>\n",
       "      <td>150.0</td>\n",
       "      <td>165.0</td>\n",
       "      <td>180.0</td>\n",
       "      <td>999.0</td>\n",
       "    </tr>\n",
       "    <tr>\n",
       "      <th>pct</th>\n",
       "      <td>685724.0</td>\n",
       "      <td>67.375982</td>\n",
       "      <td>32.736376</td>\n",
       "      <td>1.0</td>\n",
       "      <td>42.0</td>\n",
       "      <td>71.0</td>\n",
       "      <td>101.0</td>\n",
       "      <td>123.0</td>\n",
       "    </tr>\n",
       "    <tr>\n",
       "      <th>timestop</th>\n",
       "      <td>685724.0</td>\n",
       "      <td>1435.877044</td>\n",
       "      <td>727.141924</td>\n",
       "      <td>0.0</td>\n",
       "      <td>1034.0</td>\n",
       "      <td>1630.0</td>\n",
       "      <td>2028.0</td>\n",
       "      <td>2359.0</td>\n",
       "    </tr>\n",
       "  </tbody>\n",
       "</table>\n",
       "</div>"
      ],
      "text/plain": [
       "             count         mean         std   min     25%     50%     75%  \\\n",
       "age       685724.0    29.398764   37.221556   0.0    19.0    24.0    34.0   \n",
       "height    685724.0    68.564389    3.181265  36.0    67.0    69.0    71.0   \n",
       "weight    685724.0   169.323824   37.683693   0.0   150.0   165.0   180.0   \n",
       "pct       685724.0    67.375982   32.736376   1.0    42.0    71.0   101.0   \n",
       "timestop  685724.0  1435.877044  727.141924   0.0  1034.0  1630.0  2028.0   \n",
       "\n",
       "             max  \n",
       "age        999.0  \n",
       "height      95.0  \n",
       "weight     999.0  \n",
       "pct        123.0  \n",
       "timestop  2359.0  "
      ]
     },
     "execution_count": 8,
     "metadata": {},
     "output_type": "execute_result"
    }
   ],
   "source": [
    "### Calculate total height of individuals in inches by combining ht_feet and ht_inch\n",
    "\n",
    "# Create new column combining feet and inches into one number\n",
    "snf_data_pre['ht_inch'] = (snf_data_pre['ht_feet'] * 12) + snf_data_pre['ht_inch']\n",
    "\n",
    "# Delete feet column \n",
    "del snf_data_pre['ht_feet']\n",
    "\n",
    "# Rename ht_inch to height\n",
    "snf_data_pre.rename(columns={'ht_inch': 'height'}, inplace=True)\n",
    "\n",
    "snf_data_pre.describe().transpose()"
   ]
  },
  {
   "cell_type": "code",
   "execution_count": 9,
   "metadata": {
    "colab": {
     "base_uri": "https://localhost:8080/",
     "height": 534
    },
    "colab_type": "code",
    "executionInfo": {
     "elapsed": 1224,
     "status": "ok",
     "timestamp": 1587353666602,
     "user": {
      "displayName": "Vee Lee Koh",
      "photoUrl": "https://lh3.googleusercontent.com/a-/AOh14Gjj2fkNUadlioLjx3UkcyKd5Ff-x9Vb-9bwf55Q6g=s64",
      "userId": "02870426395196104300"
     },
     "user_tz": 300
    },
    "id": "meJZ4snR8QwA",
    "outputId": "1ccd2386-8351-4a43-99e8-c09066a78942"
   },
   "outputs": [
    {
     "data": {
      "text/plain": [
       "sex         object\n",
       "race        object\n",
       "age          int64\n",
       "height       int64\n",
       "weight       int64\n",
       "haircolr    object\n",
       "eyecolor    object\n",
       "build       object\n",
       "city        object\n",
       "pct          int64\n",
       "timestop     int64\n",
       "inout       object\n",
       "trhsloc     object\n",
       "typeofid    object\n",
       "othpers     object\n",
       "explnstp    object\n",
       "offunif     object\n",
       "officrid    object\n",
       "offverb     object\n",
       "offshld     object\n",
       "ac_rept     object\n",
       "ac_proxm    object\n",
       "ac_evasv    object\n",
       "ac_assoc    object\n",
       "ac_cgdir    object\n",
       "ac_incid    object\n",
       "ac_time     object\n",
       "ac_stsnd    object\n",
       "frisked     object\n",
       "dtype: object"
      ]
     },
     "execution_count": 9,
     "metadata": {},
     "output_type": "execute_result"
    }
   ],
   "source": [
    "# Get data types\n",
    "snf_data_pre.dtypes"
   ]
  },
  {
   "cell_type": "code",
   "execution_count": 10,
   "metadata": {
    "colab": {
     "base_uri": "https://localhost:8080/",
     "height": 103
    },
    "colab_type": "code",
    "executionInfo": {
     "elapsed": 1169,
     "status": "ok",
     "timestamp": 1587353667586,
     "user": {
      "displayName": "Vee Lee Koh",
      "photoUrl": "https://lh3.googleusercontent.com/a-/AOh14Gjj2fkNUadlioLjx3UkcyKd5Ff-x9Vb-9bwf55Q6g=s64",
      "userId": "02870426395196104300"
     },
     "user_tz": 300
    },
    "id": "D6shI9Z1r4K6",
    "outputId": "e56f8891-9337-40c5-e599-ba357bfba5d0"
   },
   "outputs": [
    {
     "data": {
      "text/plain": [
       "Index(['sex', 'race', 'haircolr', 'eyecolor', 'build', 'city', 'inout',\n",
       "       'trhsloc', 'typeofid', 'othpers', 'explnstp', 'offunif', 'officrid',\n",
       "       'offverb', 'offshld', 'ac_rept', 'ac_proxm', 'ac_evasv', 'ac_assoc',\n",
       "       'ac_cgdir', 'ac_incid', 'ac_time', 'ac_stsnd', 'frisked'],\n",
       "      dtype='object')"
      ]
     },
     "execution_count": 10,
     "metadata": {},
     "output_type": "execute_result"
    }
   ],
   "source": [
    "# Get list of column names which are of type string (categorical) \n",
    "str_cols = snf_data_pre.select_dtypes(['object']).columns\n",
    "str_cols"
   ]
  },
  {
   "cell_type": "code",
   "execution_count": 11,
   "metadata": {
    "colab": {
     "base_uri": "https://localhost:8080/",
     "height": 190
    },
    "colab_type": "code",
    "executionInfo": {
     "elapsed": 5342,
     "status": "ok",
     "timestamp": 1587353672433,
     "user": {
      "displayName": "Vee Lee Koh",
      "photoUrl": "https://lh3.googleusercontent.com/a-/AOh14Gjj2fkNUadlioLjx3UkcyKd5Ff-x9Vb-9bwf55Q6g=s64",
      "userId": "02870426395196104300"
     },
     "user_tz": 300
    },
    "id": "LDNYNK3SYXMF",
    "outputId": "5d266de9-1bdf-4a60-91c9-71ca1bd17010"
   },
   "outputs": [
    {
     "data": {
      "text/html": [
       "<div>\n",
       "<style scoped>\n",
       "    .dataframe tbody tr th:only-of-type {\n",
       "        vertical-align: middle;\n",
       "    }\n",
       "\n",
       "    .dataframe tbody tr th {\n",
       "        vertical-align: top;\n",
       "    }\n",
       "\n",
       "    .dataframe thead th {\n",
       "        text-align: right;\n",
       "    }\n",
       "</style>\n",
       "<table border=\"1\" class=\"dataframe\">\n",
       "  <thead>\n",
       "    <tr style=\"text-align: right;\">\n",
       "      <th></th>\n",
       "      <th>sex</th>\n",
       "      <th>race</th>\n",
       "      <th>haircolr</th>\n",
       "      <th>eyecolor</th>\n",
       "      <th>build</th>\n",
       "      <th>city</th>\n",
       "      <th>inout</th>\n",
       "      <th>trhsloc</th>\n",
       "      <th>typeofid</th>\n",
       "      <th>othpers</th>\n",
       "      <th>...</th>\n",
       "      <th>offshld</th>\n",
       "      <th>ac_rept</th>\n",
       "      <th>ac_proxm</th>\n",
       "      <th>ac_evasv</th>\n",
       "      <th>ac_assoc</th>\n",
       "      <th>ac_cgdir</th>\n",
       "      <th>ac_incid</th>\n",
       "      <th>ac_time</th>\n",
       "      <th>ac_stsnd</th>\n",
       "      <th>frisked</th>\n",
       "    </tr>\n",
       "  </thead>\n",
       "  <tbody>\n",
       "    <tr>\n",
       "      <th>count</th>\n",
       "      <td>685724</td>\n",
       "      <td>685724</td>\n",
       "      <td>685724</td>\n",
       "      <td>685724</td>\n",
       "      <td>685724</td>\n",
       "      <td>685724</td>\n",
       "      <td>685724</td>\n",
       "      <td>685724</td>\n",
       "      <td>685724</td>\n",
       "      <td>685724</td>\n",
       "      <td>...</td>\n",
       "      <td>685724</td>\n",
       "      <td>685724</td>\n",
       "      <td>685724</td>\n",
       "      <td>685724</td>\n",
       "      <td>685724</td>\n",
       "      <td>685724</td>\n",
       "      <td>685724</td>\n",
       "      <td>685724</td>\n",
       "      <td>685724</td>\n",
       "      <td>685724</td>\n",
       "    </tr>\n",
       "    <tr>\n",
       "      <th>unique</th>\n",
       "      <td>3</td>\n",
       "      <td>8</td>\n",
       "      <td>11</td>\n",
       "      <td>13</td>\n",
       "      <td>5</td>\n",
       "      <td>6</td>\n",
       "      <td>2</td>\n",
       "      <td>3</td>\n",
       "      <td>4</td>\n",
       "      <td>2</td>\n",
       "      <td>...</td>\n",
       "      <td>2</td>\n",
       "      <td>2</td>\n",
       "      <td>2</td>\n",
       "      <td>2</td>\n",
       "      <td>2</td>\n",
       "      <td>2</td>\n",
       "      <td>2</td>\n",
       "      <td>2</td>\n",
       "      <td>2</td>\n",
       "      <td>2</td>\n",
       "    </tr>\n",
       "    <tr>\n",
       "      <th>top</th>\n",
       "      <td>M</td>\n",
       "      <td>B</td>\n",
       "      <td>BK</td>\n",
       "      <td>BR</td>\n",
       "      <td>M</td>\n",
       "      <td>BROOKLYN</td>\n",
       "      <td>O</td>\n",
       "      <td>P</td>\n",
       "      <td>P</td>\n",
       "      <td>N</td>\n",
       "      <td>...</td>\n",
       "      <td></td>\n",
       "      <td>N</td>\n",
       "      <td>N</td>\n",
       "      <td>N</td>\n",
       "      <td>N</td>\n",
       "      <td>N</td>\n",
       "      <td>Y</td>\n",
       "      <td>N</td>\n",
       "      <td>N</td>\n",
       "      <td>Y</td>\n",
       "    </tr>\n",
       "    <tr>\n",
       "      <th>freq</th>\n",
       "      <td>626830</td>\n",
       "      <td>350743</td>\n",
       "      <td>519671</td>\n",
       "      <td>615932</td>\n",
       "      <td>402968</td>\n",
       "      <td>228324</td>\n",
       "      <td>545779</td>\n",
       "      <td>544854</td>\n",
       "      <td>368749</td>\n",
       "      <td>537590</td>\n",
       "      <td>...</td>\n",
       "      <td>512650</td>\n",
       "      <td>607202</td>\n",
       "      <td>539509</td>\n",
       "      <td>553879</td>\n",
       "      <td>657165</td>\n",
       "      <td>519347</td>\n",
       "      <td>407523</td>\n",
       "      <td>398181</td>\n",
       "      <td>668900</td>\n",
       "      <td>381704</td>\n",
       "    </tr>\n",
       "  </tbody>\n",
       "</table>\n",
       "<p>4 rows × 24 columns</p>\n",
       "</div>"
      ],
      "text/plain": [
       "           sex    race haircolr eyecolor   build      city   inout trhsloc  \\\n",
       "count   685724  685724   685724   685724  685724    685724  685724  685724   \n",
       "unique       3       8       11       13       5         6       2       3   \n",
       "top          M       B       BK       BR       M  BROOKLYN       O       P   \n",
       "freq    626830  350743   519671   615932  402968    228324  545779  544854   \n",
       "\n",
       "       typeofid othpers  ... offshld ac_rept ac_proxm ac_evasv ac_assoc  \\\n",
       "count    685724  685724  ...  685724  685724   685724   685724   685724   \n",
       "unique        4       2  ...       2       2        2        2        2   \n",
       "top           P       N  ...               N        N        N        N   \n",
       "freq     368749  537590  ...  512650  607202   539509   553879   657165   \n",
       "\n",
       "       ac_cgdir ac_incid ac_time ac_stsnd frisked  \n",
       "count    685724   685724  685724   685724  685724  \n",
       "unique        2        2       2        2       2  \n",
       "top           N        Y       N        N       Y  \n",
       "freq     519347   407523  398181   668900  381704  \n",
       "\n",
       "[4 rows x 24 columns]"
      ]
     },
     "execution_count": 11,
     "metadata": {},
     "output_type": "execute_result"
    }
   ],
   "source": [
    "# String features \n",
    "snf_data_pre[str_cols].describe()\n",
    "# There are a number of features with missing values (city, officrid, offverb, offshld)"
   ]
  },
  {
   "cell_type": "markdown",
   "metadata": {
    "colab_type": "text",
    "id": "D2Y2Not83hgr"
   },
   "source": [
    "### Handling missing values"
   ]
  },
  {
   "cell_type": "code",
   "execution_count": 12,
   "metadata": {
    "colab": {
     "base_uri": "https://localhost:8080/",
     "height": 34
    },
    "colab_type": "code",
    "executionInfo": {
     "elapsed": 4182,
     "status": "ok",
     "timestamp": 1587353672434,
     "user": {
      "displayName": "Vee Lee Koh",
      "photoUrl": "https://lh3.googleusercontent.com/a-/AOh14Gjj2fkNUadlioLjx3UkcyKd5Ff-x9Vb-9bwf55Q6g=s64",
      "userId": "02870426395196104300"
     },
     "user_tz": 300
    },
    "id": "-sTUulveOpj5",
    "outputId": "9248b8f4-a1e1-464d-ea47-8bedd809c5b9"
   },
   "outputs": [
    {
     "data": {
      "text/plain": [
       "(685724, 29)"
      ]
     },
     "execution_count": 12,
     "metadata": {},
     "output_type": "execute_result"
    }
   ],
   "source": [
    "# Create deep copy of dataframe in case there's need to revert to original dataframe\n",
    "snf_data_toclean = snf_data_pre.copy()\n",
    "snf_data_toclean.shape"
   ]
  },
  {
   "cell_type": "code",
   "execution_count": 13,
   "metadata": {
    "colab": {},
    "colab_type": "code",
    "id": "P704AGijrDkT"
   },
   "outputs": [],
   "source": [
    "# Replace empty values of parameters with Nan\n",
    "snf_data_toclean.replace(to_replace=' ', value=np.NaN, inplace=True)"
   ]
  },
  {
   "cell_type": "code",
   "execution_count": 14,
   "metadata": {
    "colab": {
     "base_uri": "https://localhost:8080/",
     "height": 534
    },
    "colab_type": "code",
    "executionInfo": {
     "elapsed": 3998,
     "status": "ok",
     "timestamp": 1587353672885,
     "user": {
      "displayName": "Vee Lee Koh",
      "photoUrl": "https://lh3.googleusercontent.com/a-/AOh14Gjj2fkNUadlioLjx3UkcyKd5Ff-x9Vb-9bwf55Q6g=s64",
      "userId": "02870426395196104300"
     },
     "user_tz": 300
    },
    "id": "3wPwjP29pwPr",
    "outputId": "de06d749-0d3c-45d0-edc9-234945fcefd1"
   },
   "outputs": [
    {
     "data": {
      "text/plain": [
       "sex              0\n",
       "race             0\n",
       "age              0\n",
       "height           0\n",
       "weight           0\n",
       "haircolr         0\n",
       "eyecolor         0\n",
       "build            0\n",
       "city            38\n",
       "pct              0\n",
       "timestop         0\n",
       "inout            0\n",
       "trhsloc          0\n",
       "typeofid         0\n",
       "othpers          0\n",
       "explnstp         0\n",
       "offunif          0\n",
       "officrid    677711\n",
       "offverb     548624\n",
       "offshld     512650\n",
       "ac_rept          0\n",
       "ac_proxm         0\n",
       "ac_evasv         0\n",
       "ac_assoc         0\n",
       "ac_cgdir         0\n",
       "ac_incid         0\n",
       "ac_time          0\n",
       "ac_stsnd         0\n",
       "frisked          0\n",
       "dtype: int64"
      ]
     },
     "execution_count": 14,
     "metadata": {},
     "output_type": "execute_result"
    }
   ],
   "source": [
    "# Count number of empty values\n",
    "snf_data_toclean.isnull().sum()"
   ]
  },
  {
   "cell_type": "markdown",
   "metadata": {
    "colab_type": "text",
    "id": "OlIYSe4c5KD5"
   },
   "source": [
    "Each precint has a corresponding city (a city can have multiple precints). Hence, the missing city values can be imputed using their corresponding precint. \n",
    "\n",
    "Reference: [New York City Precint Information](https://www1.nyc.gov/site/nypd/bureaus/patrol/precincts-landing.page)"
   ]
  },
  {
   "cell_type": "code",
   "execution_count": 15,
   "metadata": {
    "colab": {
     "base_uri": "https://localhost:8080/",
     "height": 34
    },
    "colab_type": "code",
    "executionInfo": {
     "elapsed": 3486,
     "status": "ok",
     "timestamp": 1587353672890,
     "user": {
      "displayName": "Vee Lee Koh",
      "photoUrl": "https://lh3.googleusercontent.com/a-/AOh14Gjj2fkNUadlioLjx3UkcyKd5Ff-x9Vb-9bwf55Q6g=s64",
      "userId": "02870426395196104300"
     },
     "user_tz": 300
    },
    "id": "GEqFBtyz97eE",
    "outputId": "f21306a6-f179-4ecd-cafa-dc13069f1fb9"
   },
   "outputs": [
    {
     "data": {
      "text/plain": [
       "array([ 18,  23,  33,  34,  70,  73,  75,  77,  79,  88, 115, 120],\n",
       "      dtype=int64)"
      ]
     },
     "execution_count": 15,
     "metadata": {},
     "output_type": "execute_result"
    }
   ],
   "source": [
    "# View pct (precints) of missing city data\n",
    "snf_data_toclean.loc[snf_data_toclean['city'].isnull()]['pct'].unique()"
   ]
  },
  {
   "cell_type": "code",
   "execution_count": 16,
   "metadata": {
    "colab": {},
    "colab_type": "code",
    "id": "ac1wwHLc1esR"
   },
   "outputs": [],
   "source": [
    "# Impute missing city values using precint data\n",
    "\n",
    "for i in [1, 5, 6, 7, 9, 10, 13, 14, 17, 18, 19, 20, 22, 23, 24, 25, 26, 28, 30, 32, 33, 34]:\n",
    "  snf_data_toclean.loc[snf_data_toclean['pct']==i, 'city']='MANHATTAN'\n",
    "\n",
    "for i in [40, 41, 42, 43, 44, 45, 46, 47, 48, 49, 50, 52]:\n",
    "  snf_data_toclean.loc[snf_data_toclean['pct']==i, 'city']='BRONX'\n",
    "\n",
    "for i in [60,61,62,63,66,67,68,69,70,71,72,73,75,76,77,78,79,81,83,84,88,90,94]:\n",
    "  snf_data_toclean.loc[snf_data_toclean['pct']==i, 'city']='BROOKLYN'\n",
    "\n",
    "for i in [100,101,102,103,104,105,106,107,108,109,110,111,112,113,114,115]:\n",
    "  snf_data_toclean.loc[snf_data_toclean['pct']==i, 'city']='QUEENS'\n",
    "\n",
    "for i in [120,121,122,123]:\n",
    "  snf_data_toclean.loc[snf_data_toclean['pct']==i, 'city']='STATEN IS'"
   ]
  },
  {
   "cell_type": "code",
   "execution_count": 17,
   "metadata": {
    "colab": {
     "base_uri": "https://localhost:8080/",
     "height": 34
    },
    "colab_type": "code",
    "executionInfo": {
     "elapsed": 4585,
     "status": "ok",
     "timestamp": 1587353675596,
     "user": {
      "displayName": "Vee Lee Koh",
      "photoUrl": "https://lh3.googleusercontent.com/a-/AOh14Gjj2fkNUadlioLjx3UkcyKd5Ff-x9Vb-9bwf55Q6g=s64",
      "userId": "02870426395196104300"
     },
     "user_tz": 300
    },
    "id": "l0onv_toEIP0",
    "outputId": "9e672045-b24c-4301-bd74-7d489ef3be2c"
   },
   "outputs": [
    {
     "data": {
      "text/plain": [
       "0"
      ]
     },
     "execution_count": 17,
     "metadata": {},
     "output_type": "execute_result"
    }
   ],
   "source": [
    "# Check all city values have been imputed correctly (no null values)\n",
    "snf_data_toclean.isnull().sum()['city']"
   ]
  },
  {
   "cell_type": "code",
   "execution_count": 18,
   "metadata": {
    "colab": {
     "base_uri": "https://localhost:8080/",
     "height": 34
    },
    "colab_type": "code",
    "executionInfo": {
     "elapsed": 4230,
     "status": "ok",
     "timestamp": 1587353675599,
     "user": {
      "displayName": "Vee Lee Koh",
      "photoUrl": "https://lh3.googleusercontent.com/a-/AOh14Gjj2fkNUadlioLjx3UkcyKd5Ff-x9Vb-9bwf55Q6g=s64",
      "userId": "02870426395196104300"
     },
     "user_tz": 300
    },
    "id": "q1S78U1Kajh3",
    "outputId": "7e0ba124-0c53-4fc9-a36d-433316412b43"
   },
   "outputs": [
    {
     "data": {
      "text/plain": [
       "False"
      ]
     },
     "execution_count": 18,
     "metadata": {},
     "output_type": "execute_result"
    }
   ],
   "source": [
    "# Drop precint column as no longer needed\n",
    "snf_data_toclean.drop(labels='pct', axis=1, inplace=True)\n",
    "\n",
    "# Check if pct removed\n",
    "'pct' in snf_data_toclean "
   ]
  },
  {
   "cell_type": "code",
   "execution_count": 19,
   "metadata": {
    "colab": {
     "base_uri": "https://localhost:8080/",
     "height": 120
    },
    "colab_type": "code",
    "executionInfo": {
     "elapsed": 3436,
     "status": "ok",
     "timestamp": 1587353675604,
     "user": {
      "displayName": "Vee Lee Koh",
      "photoUrl": "https://lh3.googleusercontent.com/a-/AOh14Gjj2fkNUadlioLjx3UkcyKd5Ff-x9Vb-9bwf55Q6g=s64",
      "userId": "02870426395196104300"
     },
     "user_tz": 300
    },
    "id": "gsygxlabEXdC",
    "outputId": "549de0d4-f6dd-457b-b0d3-9d97ed053497"
   },
   "outputs": [
    {
     "name": "stdout",
     "output_type": "stream",
     "text": [
      "I    8013\n",
      "Name: officrid, dtype: int64\n",
      "V    137100\n",
      "Name: offverb, dtype: int64\n",
      "S    173074\n",
      "Name: offshld, dtype: int64\n"
     ]
    }
   ],
   "source": [
    "# View quantity of unique values in officrid, offverb and offshld  \n",
    "print(snf_data_toclean['officrid'].value_counts())\n",
    "print(snf_data_toclean['offverb'].value_counts())\n",
    "print(snf_data_toclean['offshld'].value_counts())"
   ]
  },
  {
   "cell_type": "markdown",
   "metadata": {
    "colab_type": "text",
    "id": "ixdEdHawPFIa"
   },
   "source": [
    "Based on the dataset's documentation, the values of these features: \n",
    "* officrid (officer provided id)\n",
    "* offverb (officer gave verbal statement)\n",
    "* offshld (officer showed badge) \n",
    "\n",
    "are either a letter (meaning Yes), zero (No) or empty (not listed). \n",
    "\n",
    "As there isn't sufficient information to impute them, and deleting rows with missing values would result in loss of large portion of dataset, these columns will be dropped.\n"
   ]
  },
  {
   "cell_type": "code",
   "execution_count": 20,
   "metadata": {
    "colab": {
     "base_uri": "https://localhost:8080/",
     "height": 34
    },
    "colab_type": "code",
    "executionInfo": {
     "elapsed": 2408,
     "status": "ok",
     "timestamp": 1587353675606,
     "user": {
      "displayName": "Vee Lee Koh",
      "photoUrl": "https://lh3.googleusercontent.com/a-/AOh14Gjj2fkNUadlioLjx3UkcyKd5Ff-x9Vb-9bwf55Q6g=s64",
      "userId": "02870426395196104300"
     },
     "user_tz": 300
    },
    "id": "EIcE7tq5JBMr",
    "outputId": "c103fad9-88c1-4ec2-fa57-4dd4113ded40"
   },
   "outputs": [
    {
     "name": "stdout",
     "output_type": "stream",
     "text": [
      "(685724, 28)\n"
     ]
    }
   ],
   "source": [
    "# Print shape of dataframe before dropping columns\n",
    "print(snf_data_toclean.shape)\n",
    "# Drop the 3 columns \n",
    "snf_data_toclean.drop(labels=['officrid', 'offverb', 'offshld'], axis=1, inplace=True)"
   ]
  },
  {
   "cell_type": "code",
   "execution_count": 21,
   "metadata": {
    "colab": {
     "base_uri": "https://localhost:8080/",
     "height": 34
    },
    "colab_type": "code",
    "executionInfo": {
     "elapsed": 2102,
     "status": "ok",
     "timestamp": 1587353675607,
     "user": {
      "displayName": "Vee Lee Koh",
      "photoUrl": "https://lh3.googleusercontent.com/a-/AOh14Gjj2fkNUadlioLjx3UkcyKd5Ff-x9Vb-9bwf55Q6g=s64",
      "userId": "02870426395196104300"
     },
     "user_tz": 300
    },
    "id": "5yxlVr6UNJsi",
    "outputId": "de22276c-7108-4a74-a728-b501307c466b"
   },
   "outputs": [
    {
     "data": {
      "text/plain": [
       "(685724, 25)"
      ]
     },
     "execution_count": 21,
     "metadata": {},
     "output_type": "execute_result"
    }
   ],
   "source": [
    "# Check if columns removed correctly\n",
    "snf_data_toclean.shape"
   ]
  },
  {
   "cell_type": "markdown",
   "metadata": {
    "colab_type": "text",
    "id": "okIPq2vmeRyA"
   },
   "source": [
    "### Handling unknown or inconsistent values "
   ]
  },
  {
   "cell_type": "code",
   "execution_count": 22,
   "metadata": {
    "colab": {},
    "colab_type": "code",
    "id": "YWZaG0-3eRCU"
   },
   "outputs": [],
   "source": [
    "# Get updated list of column names which are of type string (categorical) and integer\n",
    "str_cols = snf_data_toclean.select_dtypes(['object']).columns\n",
    "int_cols = snf_data_toclean.select_dtypes(['int64']).columns"
   ]
  },
  {
   "cell_type": "code",
   "execution_count": 23,
   "metadata": {
    "colab": {
     "base_uri": "https://localhost:8080/",
     "height": 1000
    },
    "colab_type": "code",
    "executionInfo": {
     "elapsed": 4026,
     "status": "ok",
     "timestamp": 1587353678290,
     "user": {
      "displayName": "Vee Lee Koh",
      "photoUrl": "https://lh3.googleusercontent.com/a-/AOh14Gjj2fkNUadlioLjx3UkcyKd5Ff-x9Vb-9bwf55Q6g=s64",
      "userId": "02870426395196104300"
     },
     "user_tz": 300
    },
    "id": "D58Kt1ou56k3",
    "outputId": "c1b75770-43b9-4983-e3ed-0e73857f16c6"
   },
   "outputs": [
    {
     "name": "stdout",
     "output_type": "stream",
     "text": [
      "M    626830\n",
      "F     46784\n",
      "Z     12110\n",
      "Name: sex, dtype: int64\n",
      "\n",
      "B    350743\n",
      "Q    175302\n",
      "W     61805\n",
      "P     48438\n",
      "A     23932\n",
      "Z     16867\n",
      "U      5740\n",
      "I      2897\n",
      "Name: race, dtype: int64\n",
      "\n",
      "BK    519671\n",
      "BR    129761\n",
      "BA     11332\n",
      "BL      8329\n",
      "GY      6100\n",
      "XX      3658\n",
      "SP      3258\n",
      "ZZ      2469\n",
      "RA       932\n",
      "DY       125\n",
      "SN        89\n",
      "Name: haircolr, dtype: int64\n",
      "\n",
      "BR    615932\n",
      "BK     43825\n",
      "BL     11118\n",
      "GR      4718\n",
      "HA      4252\n",
      "XX      2457\n",
      "Z       2304\n",
      "GY       747\n",
      "DF       263\n",
      "MA        83\n",
      "VI        18\n",
      "MC         5\n",
      "P          2\n",
      "Name: eyecolor, dtype: int64\n",
      "\n",
      "M    402968\n",
      "T    218469\n",
      "H     55511\n",
      "Z      6353\n",
      "U      2423\n",
      "Name: build, dtype: int64\n",
      "\n",
      "BROOKLYN     228354\n",
      "QUEENS       152681\n",
      "MANHATTAN    140913\n",
      "BRONX        135724\n",
      "STATEN IS     28052\n",
      "Name: city, dtype: int64\n",
      "\n",
      "O    545779\n",
      "I    139945\n",
      "Name: inout, dtype: int64\n",
      "\n",
      "P    544854\n",
      "H     91015\n",
      "T     49855\n",
      "Name: trhsloc, dtype: int64\n",
      "\n",
      "P    368749\n",
      "V    292243\n",
      "R     16468\n",
      "O      8264\n",
      "Name: typeofid, dtype: int64\n",
      "\n",
      "N    537590\n",
      "Y    148134\n",
      "Name: othpers, dtype: int64\n",
      "\n",
      "Y    685112\n",
      "N       612\n",
      "Name: explnstp, dtype: int64\n",
      "\n",
      "Y    510167\n",
      "N    175557\n",
      "Name: offunif, dtype: int64\n",
      "\n",
      "N    607202\n",
      "Y     78522\n",
      "Name: ac_rept, dtype: int64\n",
      "\n",
      "N    539509\n",
      "Y    146215\n",
      "Name: ac_proxm, dtype: int64\n",
      "\n",
      "N    553879\n",
      "Y    131845\n",
      "Name: ac_evasv, dtype: int64\n",
      "\n",
      "N    657165\n",
      "Y     28559\n",
      "Name: ac_assoc, dtype: int64\n",
      "\n",
      "N    519347\n",
      "Y    166377\n",
      "Name: ac_cgdir, dtype: int64\n",
      "\n",
      "Y    407523\n",
      "N    278201\n",
      "Name: ac_incid, dtype: int64\n",
      "\n",
      "N    398181\n",
      "Y    287543\n",
      "Name: ac_time, dtype: int64\n",
      "\n",
      "N    668900\n",
      "Y     16824\n",
      "Name: ac_stsnd, dtype: int64\n",
      "\n",
      "Y    381704\n",
      "N    304020\n",
      "Name: frisked, dtype: int64\n",
      "\n"
     ]
    }
   ],
   "source": [
    "# View unique values for each column\n",
    "for i in str_cols:\n",
    "  print (snf_data_toclean[i].value_counts())\n",
    "  print()"
   ]
  },
  {
   "cell_type": "markdown",
   "metadata": {
    "colab_type": "text",
    "id": "xyVz9xODe9V3"
   },
   "source": [
    "**List of unknown and inconsistent values**\n",
    "\n",
    "* sex : Z (unknown) \n",
    "* race : U (unknown) & Z (other)\n",
    "* haircolr : XX (unknown), ZZ (other) & RA (should be RD for red)\n",
    "* eyecolor : XX (unknown), Z (other), MC (should be MA for maroon) & P (should be PK for pink)\n",
    "* build : Z (unknown) \n",
    "  * U here means muscular, not unknown\n",
    "* typeofid : O (other)\n",
    "\n",
    "The rows with 'unknown' and 'other' values will be removed as we have no information as to what they represent, whereas the erroneous values will be replaced to ensure consistent values in our dataset.\n"
   ]
  },
  {
   "cell_type": "code",
   "execution_count": 24,
   "metadata": {
    "colab": {
     "base_uri": "https://localhost:8080/",
     "height": 34
    },
    "colab_type": "code",
    "executionInfo": {
     "elapsed": 5739,
     "status": "ok",
     "timestamp": 1587353680393,
     "user": {
      "displayName": "Vee Lee Koh",
      "photoUrl": "https://lh3.googleusercontent.com/a-/AOh14Gjj2fkNUadlioLjx3UkcyKd5Ff-x9Vb-9bwf55Q6g=s64",
      "userId": "02870426395196104300"
     },
     "user_tz": 300
    },
    "id": "-JpTEHxapVkm",
    "outputId": "533122b9-81b3-4611-c492-52ac642bef9c"
   },
   "outputs": [
    {
     "data": {
      "text/plain": [
       "(0, 25)"
      ]
     },
     "execution_count": 24,
     "metadata": {},
     "output_type": "execute_result"
    }
   ],
   "source": [
    "# Replace all 'other' and 'unknown' values with NaN and drop those rows\n",
    "snf_data_toclean = snf_data_toclean.replace(['Z', 'ZZ', 'XX'], np.NaN)\n",
    "snf_data_toclean.dropna(inplace=True)\n",
    "\n",
    "# Check if rows with NaN were removed\n",
    "snf_data_toclean[snf_data_toclean.isna().any(axis=1)].shape"
   ]
  },
  {
   "cell_type": "code",
   "execution_count": 25,
   "metadata": {
    "colab": {
     "base_uri": "https://localhost:8080/",
     "height": 34
    },
    "colab_type": "code",
    "executionInfo": {
     "elapsed": 5506,
     "status": "ok",
     "timestamp": 1587353680395,
     "user": {
      "displayName": "Vee Lee Koh",
      "photoUrl": "https://lh3.googleusercontent.com/a-/AOh14Gjj2fkNUadlioLjx3UkcyKd5Ff-x9Vb-9bwf55Q6g=s64",
      "userId": "02870426395196104300"
     },
     "user_tz": 300
    },
    "id": "3lqQMel0wBRT",
    "outputId": "eb671a50-92e1-4027-f8c4-6e53505f32e2"
   },
   "outputs": [
    {
     "data": {
      "text/plain": [
       "(0, 25)"
      ]
     },
     "execution_count": 25,
     "metadata": {},
     "output_type": "execute_result"
    }
   ],
   "source": [
    "# Remove rows with value 'O' in typeofid column\n",
    "snf_data_toclean = snf_data_toclean[snf_data_toclean['typeofid']!='O']\n",
    "\n",
    "# Check if rows removed\n",
    "snf_data_toclean[snf_data_toclean['typeofid']=='O'].shape"
   ]
  },
  {
   "cell_type": "code",
   "execution_count": 26,
   "metadata": {
    "colab": {
     "base_uri": "https://localhost:8080/",
     "height": 34
    },
    "colab_type": "code",
    "executionInfo": {
     "elapsed": 4566,
     "status": "ok",
     "timestamp": 1587353681091,
     "user": {
      "displayName": "Vee Lee Koh",
      "photoUrl": "https://lh3.googleusercontent.com/a-/AOh14Gjj2fkNUadlioLjx3UkcyKd5Ff-x9Vb-9bwf55Q6g=s64",
      "userId": "02870426395196104300"
     },
     "user_tz": 300
    },
    "id": "6peDi6gMjjEu",
    "outputId": "79d45dfb-df7b-4baa-d446-0c0ffe13704b"
   },
   "outputs": [
    {
     "data": {
      "text/plain": [
       "(0, 25)"
      ]
     },
     "execution_count": 26,
     "metadata": {},
     "output_type": "execute_result"
    }
   ],
   "source": [
    "# Remove rows with value 'U' in race column\n",
    "snf_data_toclean = snf_data_toclean[snf_data_toclean['race']!='U']\n",
    "\n",
    "# Check if rows removed\n",
    "snf_data_toclean[snf_data_toclean['race']=='U'].shape"
   ]
  },
  {
   "cell_type": "code",
   "execution_count": 27,
   "metadata": {
    "colab": {
     "base_uri": "https://localhost:8080/",
     "height": 189
    },
    "colab_type": "code",
    "executionInfo": {
     "elapsed": 4349,
     "status": "ok",
     "timestamp": 1587353681093,
     "user": {
      "displayName": "Vee Lee Koh",
      "photoUrl": "https://lh3.googleusercontent.com/a-/AOh14Gjj2fkNUadlioLjx3UkcyKd5Ff-x9Vb-9bwf55Q6g=s64",
      "userId": "02870426395196104300"
     },
     "user_tz": 300
    },
    "id": "XMEik5C-kuCI",
    "outputId": "83213c51-cd60-47c7-de6f-f43ae2f2ce5c"
   },
   "outputs": [
    {
     "data": {
      "text/plain": [
       "BK    489126\n",
       "BR    121476\n",
       "BA     10606\n",
       "BL      7651\n",
       "GY      5559\n",
       "SP      2974\n",
       "RD       856\n",
       "DY       121\n",
       "SN        78\n",
       "Name: haircolr, dtype: int64"
      ]
     },
     "execution_count": 27,
     "metadata": {},
     "output_type": "execute_result"
    }
   ],
   "source": [
    "# Replace erroneous value on haircolor column\n",
    "snf_data_toclean['haircolr'] = snf_data_toclean['haircolr'].replace({'RA': 'RD'})\n",
    "snf_data_toclean['haircolr'].value_counts()"
   ]
  },
  {
   "cell_type": "code",
   "execution_count": 28,
   "metadata": {
    "colab": {
     "base_uri": "https://localhost:8080/",
     "height": 206
    },
    "colab_type": "code",
    "executionInfo": {
     "elapsed": 3933,
     "status": "ok",
     "timestamp": 1587353681094,
     "user": {
      "displayName": "Vee Lee Koh",
      "photoUrl": "https://lh3.googleusercontent.com/a-/AOh14Gjj2fkNUadlioLjx3UkcyKd5Ff-x9Vb-9bwf55Q6g=s64",
      "userId": "02870426395196104300"
     },
     "user_tz": 300
    },
    "id": "7L0X8coXkC5R",
    "outputId": "718d6699-7b3e-4cf0-f22c-b8158d1fab62"
   },
   "outputs": [
    {
     "data": {
      "text/plain": [
       "BR    578298\n",
       "BK     40484\n",
       "BL     10253\n",
       "GR      4385\n",
       "HA      3987\n",
       "GY       697\n",
       "DF       252\n",
       "MA        74\n",
       "VI        15\n",
       "PK         2\n",
       "Name: eyecolor, dtype: int64"
      ]
     },
     "execution_count": 28,
     "metadata": {},
     "output_type": "execute_result"
    }
   ],
   "source": [
    "# Replace erroneous value on eyecolor column\n",
    "snf_data_toclean['eyecolor'] = snf_data_toclean['eyecolor'].replace({'MC':'MA', 'P':'PK'})\n",
    "snf_data_toclean['eyecolor'].value_counts()"
   ]
  },
  {
   "cell_type": "code",
   "execution_count": 29,
   "metadata": {
    "colab": {
     "base_uri": "https://localhost:8080/",
     "height": 1000
    },
    "colab_type": "code",
    "executionInfo": {
     "elapsed": 4751,
     "status": "ok",
     "timestamp": 1587353682219,
     "user": {
      "displayName": "Vee Lee Koh",
      "photoUrl": "https://lh3.googleusercontent.com/a-/AOh14Gjj2fkNUadlioLjx3UkcyKd5Ff-x9Vb-9bwf55Q6g=s64",
      "userId": "02870426395196104300"
     },
     "user_tz": 300
    },
    "id": "I-P7W7Hml8gM",
    "outputId": "85d92466-d0a6-447d-d536-49e384e697c3"
   },
   "outputs": [
    {
     "name": "stdout",
     "output_type": "stream",
     "text": [
      "M    594678\n",
      "F     43769\n",
      "Name: sex, dtype: int64\n",
      "\n",
      "B    337784\n",
      "Q    169020\n",
      "W     59197\n",
      "P     46410\n",
      "A     23262\n",
      "I      2774\n",
      "Name: race, dtype: int64\n",
      "\n",
      "BK    489126\n",
      "BR    121476\n",
      "BA     10606\n",
      "BL      7651\n",
      "GY      5559\n",
      "SP      2974\n",
      "RD       856\n",
      "DY       121\n",
      "SN        78\n",
      "Name: haircolr, dtype: int64\n",
      "\n",
      "BR    578298\n",
      "BK     40484\n",
      "BL     10253\n",
      "GR      4385\n",
      "HA      3987\n",
      "GY       697\n",
      "DF       252\n",
      "MA        74\n",
      "VI        15\n",
      "PK         2\n",
      "Name: eyecolor, dtype: int64\n",
      "\n",
      "M    379602\n",
      "T    204638\n",
      "H     51975\n",
      "U      2232\n",
      "Name: build, dtype: int64\n",
      "\n",
      "BROOKLYN     213258\n",
      "QUEENS       144599\n",
      "MANHATTAN    128796\n",
      "BRONX        125334\n",
      "STATEN IS     26460\n",
      "Name: city, dtype: int64\n",
      "\n",
      "O    509097\n",
      "I    129350\n",
      "Name: inout, dtype: int64\n",
      "\n",
      "P    506256\n",
      "H     86190\n",
      "T     46001\n",
      "Name: trhsloc, dtype: int64\n",
      "\n",
      "P    348336\n",
      "V    275159\n",
      "R     14952\n",
      "Name: typeofid, dtype: int64\n",
      "\n",
      "N    499859\n",
      "Y    138588\n",
      "Name: othpers, dtype: int64\n",
      "\n",
      "Y    637935\n",
      "N       512\n",
      "Name: explnstp, dtype: int64\n",
      "\n",
      "Y    471622\n",
      "N    166825\n",
      "Name: offunif, dtype: int64\n",
      "\n",
      "N    566260\n",
      "Y     72187\n",
      "Name: ac_rept, dtype: int64\n",
      "\n",
      "N    502782\n",
      "Y    135665\n",
      "Name: ac_proxm, dtype: int64\n",
      "\n",
      "N    514891\n",
      "Y    123556\n",
      "Name: ac_evasv, dtype: int64\n",
      "\n",
      "N    611981\n",
      "Y     26466\n",
      "Name: ac_assoc, dtype: int64\n",
      "\n",
      "N    482047\n",
      "Y    156400\n",
      "Name: ac_cgdir, dtype: int64\n",
      "\n",
      "Y    381806\n",
      "N    256641\n",
      "Name: ac_incid, dtype: int64\n",
      "\n",
      "N    368847\n",
      "Y    269600\n",
      "Name: ac_time, dtype: int64\n",
      "\n",
      "N    622928\n",
      "Y     15519\n",
      "Name: ac_stsnd, dtype: int64\n",
      "\n",
      "Y    358229\n",
      "N    280218\n",
      "Name: frisked, dtype: int64\n",
      "\n"
     ]
    }
   ],
   "source": [
    "# Check unique values for each column\n",
    "for i in str_cols:\n",
    "  print (snf_data_toclean[i].value_counts())\n",
    "  print()"
   ]
  },
  {
   "cell_type": "markdown",
   "metadata": {
    "colab_type": "text",
    "id": "ue0_D0uDiRYm"
   },
   "source": [
    "## Data Exploration"
   ]
  },
  {
   "cell_type": "markdown",
   "metadata": {
    "colab_type": "text",
    "id": "rdcK4T5vRjZS"
   },
   "source": [
    "Explore and visualize data to gain understanding of data\n"
   ]
  },
  {
   "cell_type": "code",
   "execution_count": 30,
   "metadata": {
    "colab": {
     "base_uri": "https://localhost:8080/",
     "height": 34
    },
    "colab_type": "code",
    "executionInfo": {
     "elapsed": 2559,
     "status": "ok",
     "timestamp": 1587353682227,
     "user": {
      "displayName": "Vee Lee Koh",
      "photoUrl": "https://lh3.googleusercontent.com/a-/AOh14Gjj2fkNUadlioLjx3UkcyKd5Ff-x9Vb-9bwf55Q6g=s64",
      "userId": "02870426395196104300"
     },
     "user_tz": 300
    },
    "id": "aQcj7khKiVtI",
    "outputId": "3fc3a19e-2a37-4758-fcd9-a6f72990a46d"
   },
   "outputs": [
    {
     "data": {
      "text/plain": [
       "(638447, 25)"
      ]
     },
     "execution_count": 30,
     "metadata": {},
     "output_type": "execute_result"
    }
   ],
   "source": [
    "# Create deep copy of processed dataset\n",
    "snf_data_exp = snf_data_toclean.copy()\n",
    "snf_data_exp.shape"
   ]
  },
  {
   "cell_type": "code",
   "execution_count": 31,
   "metadata": {
    "colab": {
     "base_uri": "https://localhost:8080/",
     "height": 221
    },
    "colab_type": "code",
    "executionInfo": {
     "elapsed": 2208,
     "status": "ok",
     "timestamp": 1587353682231,
     "user": {
      "displayName": "Vee Lee Koh",
      "photoUrl": "https://lh3.googleusercontent.com/a-/AOh14Gjj2fkNUadlioLjx3UkcyKd5Ff-x9Vb-9bwf55Q6g=s64",
      "userId": "02870426395196104300"
     },
     "user_tz": 300
    },
    "id": "JV9UT4z3gX2f",
    "outputId": "3fc81b8b-f29b-4f05-fbed-25cfc4802540"
   },
   "outputs": [
    {
     "data": {
      "text/html": [
       "<div>\n",
       "<style scoped>\n",
       "    .dataframe tbody tr th:only-of-type {\n",
       "        vertical-align: middle;\n",
       "    }\n",
       "\n",
       "    .dataframe tbody tr th {\n",
       "        vertical-align: top;\n",
       "    }\n",
       "\n",
       "    .dataframe thead th {\n",
       "        text-align: right;\n",
       "    }\n",
       "</style>\n",
       "<table border=\"1\" class=\"dataframe\">\n",
       "  <thead>\n",
       "    <tr style=\"text-align: right;\">\n",
       "      <th></th>\n",
       "      <th>sex</th>\n",
       "      <th>race</th>\n",
       "      <th>age</th>\n",
       "      <th>height</th>\n",
       "      <th>weight</th>\n",
       "      <th>haircolr</th>\n",
       "      <th>eyecolor</th>\n",
       "      <th>build</th>\n",
       "      <th>city</th>\n",
       "      <th>timestop</th>\n",
       "      <th>...</th>\n",
       "      <th>offunif</th>\n",
       "      <th>ac_rept</th>\n",
       "      <th>ac_proxm</th>\n",
       "      <th>ac_evasv</th>\n",
       "      <th>ac_assoc</th>\n",
       "      <th>ac_cgdir</th>\n",
       "      <th>ac_incid</th>\n",
       "      <th>ac_time</th>\n",
       "      <th>ac_stsnd</th>\n",
       "      <th>frisked</th>\n",
       "    </tr>\n",
       "  </thead>\n",
       "  <tbody>\n",
       "    <tr>\n",
       "      <th>0</th>\n",
       "      <td>M</td>\n",
       "      <td>A</td>\n",
       "      <td>21</td>\n",
       "      <td>68</td>\n",
       "      <td>182</td>\n",
       "      <td>BK</td>\n",
       "      <td>BR</td>\n",
       "      <td>M</td>\n",
       "      <td>QUEENS</td>\n",
       "      <td>0</td>\n",
       "      <td>...</td>\n",
       "      <td>N</td>\n",
       "      <td>N</td>\n",
       "      <td>N</td>\n",
       "      <td>N</td>\n",
       "      <td>N</td>\n",
       "      <td>N</td>\n",
       "      <td>Y</td>\n",
       "      <td>Y</td>\n",
       "      <td>N</td>\n",
       "      <td>Y</td>\n",
       "    </tr>\n",
       "    <tr>\n",
       "      <th>1</th>\n",
       "      <td>M</td>\n",
       "      <td>B</td>\n",
       "      <td>15</td>\n",
       "      <td>66</td>\n",
       "      <td>140</td>\n",
       "      <td>BK</td>\n",
       "      <td>BR</td>\n",
       "      <td>M</td>\n",
       "      <td>QUEENS</td>\n",
       "      <td>5</td>\n",
       "      <td>...</td>\n",
       "      <td>N</td>\n",
       "      <td>N</td>\n",
       "      <td>N</td>\n",
       "      <td>N</td>\n",
       "      <td>N</td>\n",
       "      <td>N</td>\n",
       "      <td>Y</td>\n",
       "      <td>N</td>\n",
       "      <td>N</td>\n",
       "      <td>Y</td>\n",
       "    </tr>\n",
       "    <tr>\n",
       "      <th>2</th>\n",
       "      <td>M</td>\n",
       "      <td>B</td>\n",
       "      <td>17</td>\n",
       "      <td>67</td>\n",
       "      <td>130</td>\n",
       "      <td>BK</td>\n",
       "      <td>BR</td>\n",
       "      <td>T</td>\n",
       "      <td>QUEENS</td>\n",
       "      <td>7</td>\n",
       "      <td>...</td>\n",
       "      <td>Y</td>\n",
       "      <td>N</td>\n",
       "      <td>Y</td>\n",
       "      <td>N</td>\n",
       "      <td>N</td>\n",
       "      <td>Y</td>\n",
       "      <td>N</td>\n",
       "      <td>Y</td>\n",
       "      <td>N</td>\n",
       "      <td>Y</td>\n",
       "    </tr>\n",
       "    <tr>\n",
       "      <th>3</th>\n",
       "      <td>M</td>\n",
       "      <td>B</td>\n",
       "      <td>17</td>\n",
       "      <td>67</td>\n",
       "      <td>130</td>\n",
       "      <td>BK</td>\n",
       "      <td>BR</td>\n",
       "      <td>T</td>\n",
       "      <td>QUEENS</td>\n",
       "      <td>7</td>\n",
       "      <td>...</td>\n",
       "      <td>Y</td>\n",
       "      <td>N</td>\n",
       "      <td>Y</td>\n",
       "      <td>N</td>\n",
       "      <td>N</td>\n",
       "      <td>Y</td>\n",
       "      <td>N</td>\n",
       "      <td>Y</td>\n",
       "      <td>N</td>\n",
       "      <td>Y</td>\n",
       "    </tr>\n",
       "    <tr>\n",
       "      <th>4</th>\n",
       "      <td>M</td>\n",
       "      <td>B</td>\n",
       "      <td>20</td>\n",
       "      <td>75</td>\n",
       "      <td>185</td>\n",
       "      <td>BK</td>\n",
       "      <td>BR</td>\n",
       "      <td>M</td>\n",
       "      <td>QUEENS</td>\n",
       "      <td>7</td>\n",
       "      <td>...</td>\n",
       "      <td>Y</td>\n",
       "      <td>N</td>\n",
       "      <td>Y</td>\n",
       "      <td>Y</td>\n",
       "      <td>N</td>\n",
       "      <td>Y</td>\n",
       "      <td>N</td>\n",
       "      <td>Y</td>\n",
       "      <td>N</td>\n",
       "      <td>Y</td>\n",
       "    </tr>\n",
       "  </tbody>\n",
       "</table>\n",
       "<p>5 rows × 25 columns</p>\n",
       "</div>"
      ],
      "text/plain": [
       "  sex race  age  height  weight haircolr eyecolor build    city  timestop  \\\n",
       "0   M    A   21      68     182       BK       BR     M  QUEENS         0   \n",
       "1   M    B   15      66     140       BK       BR     M  QUEENS         5   \n",
       "2   M    B   17      67     130       BK       BR     T  QUEENS         7   \n",
       "3   M    B   17      67     130       BK       BR     T  QUEENS         7   \n",
       "4   M    B   20      75     185       BK       BR     M  QUEENS         7   \n",
       "\n",
       "   ... offunif ac_rept ac_proxm ac_evasv ac_assoc ac_cgdir ac_incid ac_time  \\\n",
       "0  ...       N       N        N        N        N        N        Y       Y   \n",
       "1  ...       N       N        N        N        N        N        Y       N   \n",
       "2  ...       Y       N        Y        N        N        Y        N       Y   \n",
       "3  ...       Y       N        Y        N        N        Y        N       Y   \n",
       "4  ...       Y       N        Y        Y        N        Y        N       Y   \n",
       "\n",
       "  ac_stsnd frisked  \n",
       "0        N       Y  \n",
       "1        N       Y  \n",
       "2        N       Y  \n",
       "3        N       Y  \n",
       "4        N       Y  \n",
       "\n",
       "[5 rows x 25 columns]"
      ]
     },
     "execution_count": 31,
     "metadata": {},
     "output_type": "execute_result"
    }
   ],
   "source": [
    "# View dataframe\n",
    "snf_data_exp.head()"
   ]
  },
  {
   "cell_type": "code",
   "execution_count": 32,
   "metadata": {
    "colab": {
     "base_uri": "https://localhost:8080/",
     "height": 170
    },
    "colab_type": "code",
    "executionInfo": {
     "elapsed": 1999,
     "status": "ok",
     "timestamp": 1587353682915,
     "user": {
      "displayName": "Vee Lee Koh",
      "photoUrl": "https://lh3.googleusercontent.com/a-/AOh14Gjj2fkNUadlioLjx3UkcyKd5Ff-x9Vb-9bwf55Q6g=s64",
      "userId": "02870426395196104300"
     },
     "user_tz": 300
    },
    "id": "GZf5YafE2Kw9",
    "outputId": "0794782b-2d46-4cd6-cb54-fc7010169318"
   },
   "outputs": [
    {
     "data": {
      "text/html": [
       "<div>\n",
       "<style scoped>\n",
       "    .dataframe tbody tr th:only-of-type {\n",
       "        vertical-align: middle;\n",
       "    }\n",
       "\n",
       "    .dataframe tbody tr th {\n",
       "        vertical-align: top;\n",
       "    }\n",
       "\n",
       "    .dataframe thead th {\n",
       "        text-align: right;\n",
       "    }\n",
       "</style>\n",
       "<table border=\"1\" class=\"dataframe\">\n",
       "  <thead>\n",
       "    <tr style=\"text-align: right;\">\n",
       "      <th></th>\n",
       "      <th>count</th>\n",
       "      <th>mean</th>\n",
       "      <th>std</th>\n",
       "      <th>min</th>\n",
       "      <th>25%</th>\n",
       "      <th>50%</th>\n",
       "      <th>75%</th>\n",
       "      <th>max</th>\n",
       "    </tr>\n",
       "  </thead>\n",
       "  <tbody>\n",
       "    <tr>\n",
       "      <th>age</th>\n",
       "      <td>638447.0</td>\n",
       "      <td>29.179915</td>\n",
       "      <td>35.339250</td>\n",
       "      <td>0.0</td>\n",
       "      <td>19.0</td>\n",
       "      <td>24.0</td>\n",
       "      <td>34.0</td>\n",
       "      <td>999.0</td>\n",
       "    </tr>\n",
       "    <tr>\n",
       "      <th>height</th>\n",
       "      <td>638447.0</td>\n",
       "      <td>68.572174</td>\n",
       "      <td>3.143190</td>\n",
       "      <td>36.0</td>\n",
       "      <td>67.0</td>\n",
       "      <td>69.0</td>\n",
       "      <td>71.0</td>\n",
       "      <td>95.0</td>\n",
       "    </tr>\n",
       "    <tr>\n",
       "      <th>weight</th>\n",
       "      <td>638447.0</td>\n",
       "      <td>169.075388</td>\n",
       "      <td>33.913560</td>\n",
       "      <td>0.0</td>\n",
       "      <td>150.0</td>\n",
       "      <td>165.0</td>\n",
       "      <td>180.0</td>\n",
       "      <td>999.0</td>\n",
       "    </tr>\n",
       "    <tr>\n",
       "      <th>timestop</th>\n",
       "      <td>638447.0</td>\n",
       "      <td>1437.847773</td>\n",
       "      <td>727.732732</td>\n",
       "      <td>0.0</td>\n",
       "      <td>1035.0</td>\n",
       "      <td>1630.0</td>\n",
       "      <td>2030.0</td>\n",
       "      <td>2359.0</td>\n",
       "    </tr>\n",
       "  </tbody>\n",
       "</table>\n",
       "</div>"
      ],
      "text/plain": [
       "             count         mean         std   min     25%     50%     75%  \\\n",
       "age       638447.0    29.179915   35.339250   0.0    19.0    24.0    34.0   \n",
       "height    638447.0    68.572174    3.143190  36.0    67.0    69.0    71.0   \n",
       "weight    638447.0   169.075388   33.913560   0.0   150.0   165.0   180.0   \n",
       "timestop  638447.0  1437.847773  727.732732   0.0  1035.0  1630.0  2030.0   \n",
       "\n",
       "             max  \n",
       "age        999.0  \n",
       "height      95.0  \n",
       "weight     999.0  \n",
       "timestop  2359.0  "
      ]
     },
     "execution_count": 32,
     "metadata": {},
     "output_type": "execute_result"
    }
   ],
   "source": [
    "# View distribution of numerical data\n",
    "snf_data_exp[int_cols].describe().transpose()"
   ]
  },
  {
   "cell_type": "markdown",
   "metadata": {
    "colab_type": "text",
    "id": "P--2fZAyz0F0"
   },
   "source": [
    "### Explore continuous attributes"
   ]
  },
  {
   "cell_type": "code",
   "execution_count": 33,
   "metadata": {
    "colab": {
     "base_uri": "https://localhost:8080/",
     "height": 352
    },
    "colab_type": "code",
    "executionInfo": {
     "elapsed": 1440,
     "status": "ok",
     "timestamp": 1587353683921,
     "user": {
      "displayName": "Vee Lee Koh",
      "photoUrl": "https://lh3.googleusercontent.com/a-/AOh14Gjj2fkNUadlioLjx3UkcyKd5Ff-x9Vb-9bwf55Q6g=s64",
      "userId": "02870426395196104300"
     },
     "user_tz": 300
    },
    "id": "RzCzKrsdNfZr",
    "outputId": "fc603284-39d6-4622-9fb8-557f98ce5a49"
   },
   "outputs": [
    {
     "data": {
      "image/png": "[encoded data removed]",
      "text/plain": [
       "<Figure size 432x288 with 3 Axes>"
      ]
     },
     "metadata": {
      "needs_background": "light"
     },
     "output_type": "display_data"
    }
   ],
   "source": [
    "# Visualize distribution of ages, heights and weights using box plots\n",
    "plt.subplot(131)\n",
    "snf_data_exp.boxplot('age')\n",
    "plt.title('Box Plot of Age')\n",
    "\n",
    "plt.subplot(132)\n",
    "snf_data_exp.boxplot('height')\n",
    "plt.title('Box Plot of Height')\n",
    "\n",
    "plt.subplot(133)\n",
    "snf_data_exp.boxplot('weight')\n",
    "plt.title('Box Plot of Weight')\n",
    "\n",
    "plt.subplots_adjust(left=0.0, bottom=0.0, right=2.5, top=1, wspace=0.2, hspace=0.2)"
   ]
  },
  {
   "cell_type": "code",
   "execution_count": 77,
   "metadata": {
    "colab": {
     "base_uri": "https://localhost:8080/",
     "height": 86
    },
    "colab_type": "code",
    "executionInfo": {
     "elapsed": 778,
     "status": "ok",
     "timestamp": 1587353684192,
     "user": {
      "displayName": "Vee Lee Koh",
      "photoUrl": "https://lh3.googleusercontent.com/a-/AOh14Gjj2fkNUadlioLjx3UkcyKd5Ff-x9Vb-9bwf55Q6g=s64",
      "userId": "02870426395196104300"
     },
     "user_tz": 300
    },
    "id": "eHVx7upkcs6m",
    "outputId": "dea75f9b-acb9-474e-e9d7-2a5a65390428"
   },
   "outputs": [
    {
     "ename": "IndentationError",
     "evalue": "unexpected indent (<ipython-input-77-43de535ec257>, line 2)",
     "output_type": "error",
     "traceback": [
      "\u001b[1;36m  File \u001b[1;32m\"<ipython-input-77-43de535ec257>\"\u001b[1;36m, line \u001b[1;32m2\u001b[0m\n\u001b[1;33m    print(\"Upper and Lower bounds\")\u001b[0m\n\u001b[1;37m    ^\u001b[0m\n\u001b[1;31mIndentationError\u001b[0m\u001b[1;31m:\u001b[0m unexpected indent\n"
     ]
    }
   ],
   "source": [
    "# Calculate upper and lower bounds of age, height and weight\n",
    " print(\"Upper and Lower bounds\")\n",
    "for col in ['age', 'height', 'weight']:\n",
    "    q1, q3 = np.percentile(snf_data_exp[col], [25,75])\n",
    "    iqr = q3 - q1\n",
    "    lower_bound = q1 - (1.5 * iqr)\n",
    "    upper_bound = q3 + (1.5 * iqr)\n",
    "    print(col, lower_bound, upper_bound)"
   ]
  },
  {
   "cell_type": "markdown",
   "metadata": {
    "colab_type": "text",
    "id": "nrVqvNjpdSfX"
   },
   "source": [
    "There exists erroneuous data in the age, height and weight parameters. \n",
    "\n",
    "*   Oldest person in America is 114 years old - ages above 100 are likely erroneous. Average lifespan of an American is 76 years old. Ages that are too small (below 5 yrs) are likely noise too, as an infant wouldn't be stopped.\n",
    "*   Tallest person in America is 7'8\" (92 in) - any height above is erroneous. Heights that are too short (below 40 in) are assumed to be noise.\n",
    "*   Average American weights are 159 to 191 lbs. Weights below 50 lbs and above 300 lbs are likely noise.\n",
    "\n"
   ]
  },
  {
   "cell_type": "code",
   "execution_count": 35,
   "metadata": {
    "colab": {
     "base_uri": "https://localhost:8080/",
     "height": 366
    },
    "colab_type": "code",
    "executionInfo": {
     "elapsed": 5471,
     "status": "ok",
     "timestamp": 1587353690271,
     "user": {
      "displayName": "Vee Lee Koh",
      "photoUrl": "https://lh3.googleusercontent.com/a-/AOh14Gjj2fkNUadlioLjx3UkcyKd5Ff-x9Vb-9bwf55Q6g=s64",
      "userId": "02870426395196104300"
     },
     "user_tz": 300
    },
    "id": "mHDSKlZoAGXt",
    "outputId": "0690a4e8-6304-4854-ae28-2978890faf6a"
   },
   "outputs": [
    {
     "data": {
      "image/png": "[encoded data removed]",
      "text/plain": [
       "<Figure size 432x288 with 1 Axes>"
      ]
     },
     "metadata": {
      "needs_background": "light"
     },
     "output_type": "display_data"
    }
   ],
   "source": [
    "# Visualize distribution of frisks or no frisks by time of day\n",
    "snf_data_exp.pivot(columns='frisked')['timestop'].plot(kind = 'hist', stacked=True, bins=12,alpha=0.9, edgecolor='black')\n",
    "plt.xticks(np.arange(0,2500,step=600)); plt.xlim([0,2400])\n",
    "plt.xlabel('Time of Stop [HH:MM]'); plt.title('Distribution of Frisks by Time of Day')\n",
    "plt.subplots_adjust(left=0.0, bottom=0.0, right=2, top=1, wspace=0.2, hspace=0.2)"
   ]
  },
  {
   "cell_type": "code",
   "execution_count": 36,
   "metadata": {
    "colab": {
     "base_uri": "https://localhost:8080/",
     "height": 366
    },
    "colab_type": "code",
    "executionInfo": {
     "elapsed": 8345,
     "status": "ok",
     "timestamp": 1587353694187,
     "user": {
      "displayName": "Vee Lee Koh",
      "photoUrl": "https://lh3.googleusercontent.com/a-/AOh14Gjj2fkNUadlioLjx3UkcyKd5Ff-x9Vb-9bwf55Q6g=s64",
      "userId": "02870426395196104300"
     },
     "user_tz": 300
    },
    "id": "0mjQvLZ03AIQ",
    "outputId": "143821e8-c782-4625-fdd2-f03c41541312"
   },
   "outputs": [
    {
     "data": {
      "image/png": "[encoded data removed]",
      "text/plain": [
       "<Figure size 432x288 with 1 Axes>"
      ]
     },
     "metadata": {
      "needs_background": "light"
     },
     "output_type": "display_data"
    }
   ],
   "source": [
    "# Visualize distribution of frisks or no frisks by time of day\n",
    "snf_data_exp.pivot(columns='frisked')['timestop'].plot(kind = 'hist', stacked=True, bins=48, alpha=0.9, edgecolor='black')\n",
    "plt.xticks(np.arange(0,2500,step=600)); plt.xlim([0,2400])\n",
    "plt.xlabel('Time of Stop [HH:MM]'); plt.title('Distribution of Frisks by Time of Day')\n",
    "plt.subplots_adjust(left=0.0, bottom=0.0, right=2, top=1, wspace=0.2, hspace=0.2)"
   ]
  },
  {
   "cell_type": "markdown",
   "metadata": {
    "colab_type": "text",
    "id": "1Ms264Rd_g6C"
   },
   "source": [
    "Based on the histogram bars, the time of stop has a correlation with the likelihood of being frisked. Binning the time of stop into 12 bins would likely result in loss of information, as compared to 24 bins (but this is too many bins). Hence, I would leave them unbinned for now. It is also important to note that individuals are more likely frisked during the night (& midnight) than the day."
   ]
  },
  {
   "cell_type": "markdown",
   "metadata": {
    "colab_type": "text",
    "id": "UwUCt3H-CdYd"
   },
   "source": [
    "### Explore categorical attributes "
   ]
  },
  {
   "cell_type": "code",
   "execution_count": 37,
   "metadata": {
    "colab": {
     "base_uri": "https://localhost:8080/",
     "height": 294
    },
    "colab_type": "code",
    "executionInfo": {
     "elapsed": 8087,
     "status": "ok",
     "timestamp": 1587353695439,
     "user": {
      "displayName": "Vee Lee Koh",
      "photoUrl": "https://lh3.googleusercontent.com/a-/AOh14Gjj2fkNUadlioLjx3UkcyKd5Ff-x9Vb-9bwf55Q6g=s64",
      "userId": "02870426395196104300"
     },
     "user_tz": 300
    },
    "id": "q83tuwzgGlTc",
    "outputId": "68510e88-c37d-4676-b0ac-7ac1ec20ffad"
   },
   "outputs": [
    {
     "data": {
      "image/png": "[encoded data removed]",
      "text/plain": [
       "<Figure size 403.5x360 with 1 Axes>"
      ]
     },
     "metadata": {
      "needs_background": "light"
     },
     "output_type": "display_data"
    }
   ],
   "source": [
    "# Visualize frisks by sex\n",
    "sns.catplot(x='sex', hue='frisked', data=snf_data_exp, kind='count', palette='coolwarm', edgecolor='0.6')\n",
    "plt.title('Frisks by Sex'); plt.grid()\n",
    "plt.subplots_adjust(left=0.0, bottom=0.0, right=1, top=0.6, wspace=0.01, hspace=0.2)"
   ]
  },
  {
   "cell_type": "markdown",
   "metadata": {
    "colab_type": "text",
    "id": "aDs5BQabDsXd"
   },
   "source": [
    "From the bar chart above, it looks like males (M) are much more likely to be frisked than females (F), by more than 20 times. Women are also less likely to be frisked if stopped by an officer, whereas men are."
   ]
  },
  {
   "cell_type": "code",
   "execution_count": 38,
   "metadata": {
    "colab": {
     "base_uri": "https://localhost:8080/",
     "height": 364
    },
    "colab_type": "code",
    "executionInfo": {
     "elapsed": 7013,
     "status": "ok",
     "timestamp": 1587353695443,
     "user": {
      "displayName": "Vee Lee Koh",
      "photoUrl": "https://lh3.googleusercontent.com/a-/AOh14Gjj2fkNUadlioLjx3UkcyKd5Ff-x9Vb-9bwf55Q6g=s64",
      "userId": "02870426395196104300"
     },
     "user_tz": 300
    },
    "id": "t59QB0hbgPxo",
    "outputId": "c52ac4c7-186b-4ee7-a781-5a79a57abdab"
   },
   "outputs": [
    {
     "data": {
      "image/png": "[encoded data removed]",
      "text/plain": [
       "<Figure size 432x288 with 2 Axes>"
      ]
     },
     "metadata": {},
     "output_type": "display_data"
    }
   ],
   "source": [
    "# Visualize distribution of race and city\n",
    "plt.subplot(121)\n",
    "snf_data_exp.groupby('race').size().plot.pie(colormap='coolwarm')\n",
    "plt.legend(labels=('A: ASIAN','B: BLACK','I: AMERICAN INDIAN','P: BLACK-HISPANIC','Q: WHITE-HISPANIC','W: WHITE'))\n",
    "plt.title('Distribution of Stopped Individuals by Race')\n",
    "\n",
    "plt.subplot(122)\n",
    "snf_data_exp.groupby('city').size().plot.pie(colormap='viridis')\n",
    "plt.title('Distribution of Stops by City')\n",
    "\n",
    "plt.subplots_adjust(left=0.0, bottom=0.0, right=2, top=1.1, wspace=0.01, hspace=0.2)"
   ]
  },
  {
   "cell_type": "markdown",
   "metadata": {
    "colab_type": "text",
    "id": "r0dvixcJFjf1"
   },
   "source": [
    "In 2011, about 50% of individuals stopped by NYPD are black (B) or African American, followed by White-Hispanic (Q), White(W), etc. Most of the police stops occured in the city of Brooklyn (30%) followed by Queens (25%), Manhattan (20%) and Bronx (20%)."
   ]
  },
  {
   "cell_type": "code",
   "execution_count": 39,
   "metadata": {
    "colab": {
     "base_uri": "https://localhost:8080/",
     "height": 366
    },
    "colab_type": "code",
    "executionInfo": {
     "elapsed": 7390,
     "status": "ok",
     "timestamp": 1587353696907,
     "user": {
      "displayName": "Vee Lee Koh",
      "photoUrl": "https://lh3.googleusercontent.com/a-/AOh14Gjj2fkNUadlioLjx3UkcyKd5Ff-x9Vb-9bwf55Q6g=s64",
      "userId": "02870426395196104300"
     },
     "user_tz": 300
    },
    "id": "74BaJnCnfPt5",
    "outputId": "9219dafe-9cf4-4d6d-c2c9-277268295a9f"
   },
   "outputs": [
    {
     "data": {
      "image/png": "[encoded data removed]",
      "text/plain": [
       "<Figure size 403.5x360 with 1 Axes>"
      ]
     },
     "metadata": {
      "needs_background": "light"
     },
     "output_type": "display_data"
    }
   ],
   "source": [
    "# Visualize frisks by race\n",
    "sns.catplot(x='race', hue='frisked', data=snf_data_exp, kind='count', palette='coolwarm', edgecolor='0.6')\n",
    "plt.title('Frisks by race'); plt.grid()\n",
    "plt.subplots_adjust(left=0.0, bottom=0.0, right=2, top=0.8, wspace=0.01, hspace=0.2)"
   ]
  },
  {
   "cell_type": "markdown",
   "metadata": {
    "colab_type": "text",
    "id": "4kL-3-VzHhsP"
   },
   "source": [
    "Individuals (stopped by police) who are black (B), white-hispanic (Q) and black-hispanic (P) are more likely to be frisked than not, with African-Americans being frisked the most. On the other hand, individuals who are white (W), asian (A) and american indian (I) are less likely to be frisked, with white individuals having the highest no-frisk to frisk ratio."
   ]
  },
  {
   "cell_type": "code",
   "execution_count": 40,
   "metadata": {
    "colab": {
     "base_uri": "https://localhost:8080/",
     "height": 366
    },
    "colab_type": "code",
    "executionInfo": {
     "elapsed": 7422,
     "status": "ok",
     "timestamp": 1587353698081,
     "user": {
      "displayName": "Vee Lee Koh",
      "photoUrl": "https://lh3.googleusercontent.com/a-/AOh14Gjj2fkNUadlioLjx3UkcyKd5Ff-x9Vb-9bwf55Q6g=s64",
      "userId": "02870426395196104300"
     },
     "user_tz": 300
    },
    "id": "Y0MbRdY1xN8n",
    "outputId": "61bbd229-ccfb-445b-b65a-f1ec1f9601e8"
   },
   "outputs": [
    {
     "data": {
      "image/png": "[encoded data removed]",
      "text/plain": [
       "<Figure size 403.5x360 with 1 Axes>"
      ]
     },
     "metadata": {
      "needs_background": "light"
     },
     "output_type": "display_data"
    }
   ],
   "source": [
    "# Visualize frisks by city\n",
    "sns.catplot(x='city', hue='frisked', data=snf_data_exp, kind='count', palette='coolwarm', edgecolor='0.6')\n",
    "plt.title('Frisks by city'); plt.grid()\n",
    "plt.subplots_adjust(left=0.0, bottom=0.0, right=2, top=0.8, wspace=0.01, hspace=0.2)"
   ]
  },
  {
   "cell_type": "markdown",
   "metadata": {
    "colab_type": "text",
    "id": "YH-cd09OI6iz"
   },
   "source": [
    "It looks like one is more likely to be frisked in most cities (if stopped) except in Staten Island. However, the discrepancy of no-frisk to frisk in Bronx and Queens is the greatest.  "
   ]
  },
  {
   "cell_type": "code",
   "execution_count": 41,
   "metadata": {
    "colab": {
     "base_uri": "https://localhost:8080/",
     "height": 366
    },
    "colab_type": "code",
    "executionInfo": {
     "elapsed": 7362,
     "status": "ok",
     "timestamp": 1587353699189,
     "user": {
      "displayName": "Vee Lee Koh",
      "photoUrl": "https://lh3.googleusercontent.com/a-/AOh14Gjj2fkNUadlioLjx3UkcyKd5Ff-x9Vb-9bwf55Q6g=s64",
      "userId": "02870426395196104300"
     },
     "user_tz": 300
    },
    "id": "wUl0_t4PJhbB",
    "outputId": "6aa6fd47-3671-4257-fa53-31871aed3af3"
   },
   "outputs": [
    {
     "data": {
      "image/png": "[encoded data removed]",
      "text/plain": [
       "<Figure size 403.5x360 with 1 Axes>"
      ]
     },
     "metadata": {
      "needs_background": "light"
     },
     "output_type": "display_data"
    }
   ],
   "source": [
    "# Visualize frisks by hair color\n",
    "sns.catplot(x='haircolr', hue='frisked', data=snf_data_exp, kind='count', palette='pastel', edgecolor='0.6')\n",
    "plt.title('Frisks by hair color'); plt.grid()\n",
    "plt.subplots_adjust(left=0.0, bottom=0.0, right=2, top=0.8, wspace=0.01, hspace=0.2)"
   ]
  },
  {
   "cell_type": "code",
   "execution_count": 42,
   "metadata": {
    "colab": {
     "base_uri": "https://localhost:8080/",
     "height": 366
    },
    "colab_type": "code",
    "executionInfo": {
     "elapsed": 8071,
     "status": "ok",
     "timestamp": 1587353700697,
     "user": {
      "displayName": "Vee Lee Koh",
      "photoUrl": "https://lh3.googleusercontent.com/a-/AOh14Gjj2fkNUadlioLjx3UkcyKd5Ff-x9Vb-9bwf55Q6g=s64",
      "userId": "02870426395196104300"
     },
     "user_tz": 300
    },
    "id": "nJNHu3l3MQxu",
    "outputId": "e39780e9-c761-42a7-e132-8ce368419a8d"
   },
   "outputs": [
    {
     "data": {
      "image/png": "[encoded data removed]",
      "text/plain": [
       "<Figure size 403.5x360 with 1 Axes>"
      ]
     },
     "metadata": {
      "needs_background": "light"
     },
     "output_type": "display_data"
    }
   ],
   "source": [
    "# Visualize frisks by eye color\n",
    "sns.catplot(x='eyecolor', hue='frisked', data=snf_data_exp, kind='count', palette='pastel', edgecolor='0.6')\n",
    "plt.title('Frisks by eye color'); plt.grid()\n",
    "plt.subplots_adjust(left=0.0, bottom=0.0, right=2, top=0.8, wspace=0.01, hspace=0.2)"
   ]
  },
  {
   "cell_type": "markdown",
   "metadata": {
    "colab_type": "text",
    "id": "oJfnRuFPLHaZ"
   },
   "source": [
    "Individuals with black hair (BK) and brown eyes (BR) are more likely to be frisked, but given there isn't too much gap between Y/N for all colors of hair and eyes, these attribute don't seem to be signifcant factors in predicting if someone gets frisked."
   ]
  },
  {
   "cell_type": "code",
   "execution_count": 43,
   "metadata": {
    "colab": {
     "base_uri": "https://localhost:8080/",
     "height": 366
    },
    "colab_type": "code",
    "executionInfo": {
     "elapsed": 8916,
     "status": "ok",
     "timestamp": 1587353702859,
     "user": {
      "displayName": "Vee Lee Koh",
      "photoUrl": "https://lh3.googleusercontent.com/a-/AOh14Gjj2fkNUadlioLjx3UkcyKd5Ff-x9Vb-9bwf55Q6g=s64",
      "userId": "02870426395196104300"
     },
     "user_tz": 300
    },
    "id": "Ablc_eRKOFk9",
    "outputId": "a07945e8-ff35-4210-c20a-af36a6503854"
   },
   "outputs": [
    {
     "data": {
      "image/png": "[encoded data removed]",
      "text/plain": [
       "<Figure size 403.5x360 with 1 Axes>"
      ]
     },
     "metadata": {
      "needs_background": "light"
     },
     "output_type": "display_data"
    }
   ],
   "source": [
    "# Visualize frisks by build of body\n",
    "sns.catplot(x='build', hue='frisked', data=snf_data_exp, kind='count', palette='pastel', edgecolor='0.6')\n",
    "plt.title('Frisks by build'); plt.grid()\n",
    "plt.subplots_adjust(left=0.0, bottom=0.0, right=2, top=0.8, wspace=0.01, hspace=0.2)"
   ]
  },
  {
   "cell_type": "markdown",
   "metadata": {
    "colab_type": "text",
    "id": "yGwN1_daOlze"
   },
   "source": [
    "Individuals with medium (M) and thin (T) body builds are more likely to be frisked than heavy (H) or muscular (U) builds."
   ]
  },
  {
   "cell_type": "code",
   "execution_count": 44,
   "metadata": {
    "colab": {
     "base_uri": "https://localhost:8080/",
     "height": 170
    },
    "colab_type": "code",
    "executionInfo": {
     "elapsed": 6706,
     "status": "ok",
     "timestamp": 1587353702860,
     "user": {
      "displayName": "Vee Lee Koh",
      "photoUrl": "https://lh3.googleusercontent.com/a-/AOh14Gjj2fkNUadlioLjx3UkcyKd5Ff-x9Vb-9bwf55Q6g=s64",
      "userId": "02870426395196104300"
     },
     "user_tz": 300
    },
    "id": "iZAuFeimFbEc",
    "outputId": "75c882fa-7a2e-4b05-ce2e-44471a1ebe0c"
   },
   "outputs": [
    {
     "data": {
      "text/html": [
       "<div>\n",
       "<style scoped>\n",
       "    .dataframe tbody tr th:only-of-type {\n",
       "        vertical-align: middle;\n",
       "    }\n",
       "\n",
       "    .dataframe tbody tr th {\n",
       "        vertical-align: top;\n",
       "    }\n",
       "\n",
       "    .dataframe thead th {\n",
       "        text-align: right;\n",
       "    }\n",
       "</style>\n",
       "<table border=\"1\" class=\"dataframe\">\n",
       "  <thead>\n",
       "    <tr style=\"text-align: right;\">\n",
       "      <th>build</th>\n",
       "      <th>H</th>\n",
       "      <th>M</th>\n",
       "      <th>T</th>\n",
       "      <th>U</th>\n",
       "      <th>All</th>\n",
       "    </tr>\n",
       "    <tr>\n",
       "      <th>frisked</th>\n",
       "      <th></th>\n",
       "      <th></th>\n",
       "      <th></th>\n",
       "      <th></th>\n",
       "      <th></th>\n",
       "    </tr>\n",
       "  </thead>\n",
       "  <tbody>\n",
       "    <tr>\n",
       "      <th>N</th>\n",
       "      <td>0.037048</td>\n",
       "      <td>0.262836</td>\n",
       "      <td>0.137676</td>\n",
       "      <td>0.001345</td>\n",
       "      <td>0.438906</td>\n",
       "    </tr>\n",
       "    <tr>\n",
       "      <th>Y</th>\n",
       "      <td>0.044361</td>\n",
       "      <td>0.331735</td>\n",
       "      <td>0.182848</td>\n",
       "      <td>0.002151</td>\n",
       "      <td>0.561094</td>\n",
       "    </tr>\n",
       "    <tr>\n",
       "      <th>All</th>\n",
       "      <td>0.081408</td>\n",
       "      <td>0.594571</td>\n",
       "      <td>0.320525</td>\n",
       "      <td>0.003496</td>\n",
       "      <td>1.000000</td>\n",
       "    </tr>\n",
       "  </tbody>\n",
       "</table>\n",
       "</div>"
      ],
      "text/plain": [
       "build           H         M         T         U       All\n",
       "frisked                                                  \n",
       "N        0.037048  0.262836  0.137676  0.001345  0.438906\n",
       "Y        0.044361  0.331735  0.182848  0.002151  0.561094\n",
       "All      0.081408  0.594571  0.320525  0.003496  1.000000"
      ]
     },
     "execution_count": 44,
     "metadata": {},
     "output_type": "execute_result"
    }
   ],
   "source": [
    "pd.crosstab(columns=snf_data_exp['build'], index=snf_data_exp['frisked'], normalize=True, margins=True)"
   ]
  },
  {
   "cell_type": "code",
   "execution_count": 45,
   "metadata": {
    "colab": {
     "base_uri": "https://localhost:8080/",
     "height": 366
    },
    "colab_type": "code",
    "executionInfo": {
     "elapsed": 6476,
     "status": "ok",
     "timestamp": 1587353702860,
     "user": {
      "displayName": "Vee Lee Koh",
      "photoUrl": "https://lh3.googleusercontent.com/a-/AOh14Gjj2fkNUadlioLjx3UkcyKd5Ff-x9Vb-9bwf55Q6g=s64",
      "userId": "02870426395196104300"
     },
     "user_tz": 300
    },
    "id": "KExdjzE_QCjQ",
    "outputId": "d0b2a2d7-80a4-414c-b29e-f4696c48c34c"
   },
   "outputs": [
    {
     "data": {
      "image/png": "[encoded data removed]",
      "text/plain": [
       "<Figure size 403.5x360 with 1 Axes>"
      ]
     },
     "metadata": {
      "needs_background": "light"
     },
     "output_type": "display_data"
    }
   ],
   "source": [
    "# Visualize frisks by if officer is in uniform\n",
    "sns.catplot(x='offunif', hue='frisked', data=snf_data_exp, kind='count', palette='pastel', edgecolor='0.6')\n",
    "plt.title('Frisks by whether officer was in uniform'); plt.grid()\n",
    "plt.subplots_adjust(left=0.0, bottom=0.0, right=2, top=0.8, wspace=0.01, hspace=0.2)"
   ]
  },
  {
   "cell_type": "markdown",
   "metadata": {
    "colab_type": "text",
    "id": "dCYRtrcwR6t6"
   },
   "source": [
    "This chart is interesting as it tells us that an individual is 2.5 times more likely to be frisked if the officer is not in a uniform. On the other hand, there isn't too much difference if the officer is in uniform. This is contradictory to what we would expect."
   ]
  },
  {
   "cell_type": "code",
   "execution_count": 48,
   "metadata": {
    "colab": {
     "base_uri": "https://localhost:8080/",
     "height": 1000
    },
    "colab_type": "code",
    "executionInfo": {
     "elapsed": 9764,
     "status": "ok",
     "timestamp": 1587353707399,
     "user": {
      "displayName": "Vee Lee Koh",
      "photoUrl": "https://lh3.googleusercontent.com/a-/AOh14Gjj2fkNUadlioLjx3UkcyKd5Ff-x9Vb-9bwf55Q6g=s64",
      "userId": "02870426395196104300"
     },
     "user_tz": 300
    },
    "id": "a4kyYfuhpRts",
    "outputId": "eaac31f0-993e-45bc-b32b-8fe3506bf12f"
   },
   "outputs": [
    {
     "name": "stdout",
     "output_type": "stream",
     "text": [
      "Normalized Two-way Tables for categorical features\n",
      "\n",
      "inout           I         O\n",
      "frisked                    \n",
      "N        0.109849  0.329056\n",
      "Y        0.092752  0.468343\n",
      "All      0.202601  0.797399\n",
      "\n",
      "trhsloc         H         P         T\n",
      "frisked                              \n",
      "N        0.061047  0.341098  0.036761\n",
      "Y        0.073953  0.451851  0.035290\n",
      "All      0.134999  0.792949  0.072051\n",
      "\n",
      "typeofid         P         R         V\n",
      "frisked                               \n",
      "N         0.252849  0.011544  0.174513\n",
      "Y         0.292749  0.011876  0.256469\n",
      "All       0.545599  0.023419  0.430982\n",
      "\n",
      "othpers         N         Y\n",
      "frisked                    \n",
      "N        0.351130  0.087775\n",
      "Y        0.431799  0.129295\n",
      "All      0.782930  0.217070\n",
      "\n",
      "explnstp         N         Y\n",
      "frisked                     \n",
      "N         0.000409  0.438497\n",
      "Y         0.000393  0.560701\n",
      "All       0.000802  0.999198\n",
      "\n",
      "offunif         N         Y\n",
      "frisked                    \n",
      "N        0.073356  0.365550\n",
      "Y        0.187942  0.373152\n",
      "All      0.261298  0.738702\n",
      "\n",
      "ac_rept         N         Y\n",
      "frisked                    \n",
      "N        0.393452  0.045454\n",
      "Y        0.493482  0.067613\n",
      "All      0.886933  0.113067\n",
      "\n",
      "ac_proxm         N         Y\n",
      "frisked                     \n",
      "N         0.353361  0.085545\n",
      "Y         0.434147  0.126947\n",
      "All       0.787508  0.212492\n",
      "\n",
      "ac_evasv         N         Y\n",
      "frisked                     \n",
      "N         0.378399  0.060506\n",
      "Y         0.428075  0.133020\n",
      "All       0.806474  0.193526\n",
      "\n",
      "ac_assoc         N         Y\n",
      "frisked                     \n",
      "N         0.425608  0.013298\n",
      "Y         0.532939  0.028156\n",
      "All       0.958546  0.041454\n",
      "\n",
      "ac_cgdir         N         Y\n",
      "frisked                     \n",
      "N         0.355801  0.083105\n",
      "Y         0.399230  0.161865\n",
      "All       0.755031  0.244969\n",
      "\n",
      "ac_incid         N         Y\n",
      "frisked                     \n",
      "N         0.176632  0.262274\n",
      "Y         0.225345  0.335749\n",
      "All       0.401977  0.598023\n",
      "\n",
      "ac_time         N         Y\n",
      "frisked                    \n",
      "N        0.262454  0.176452\n",
      "Y        0.315271  0.245823\n",
      "All      0.577725  0.422275\n",
      "\n",
      "ac_stsnd         N         Y\n",
      "frisked                     \n",
      "N         0.427484  0.011421\n",
      "Y         0.548208  0.012886\n",
      "All       0.975693  0.024307\n",
      "\n"
     ]
    }
   ],
   "source": [
    "# Two way table\n",
    "print(\"Normalized Two-way Tables for categorical features\")\n",
    "print()\n",
    "for i in str_cols[6:-1]:\n",
    " print(pd.crosstab(columns=snf_data_exp[i], index=snf_data_exp['frisked'], margins=True, normalize=True).iloc[:,:-1])\n",
    " print()"
   ]
  },
  {
   "cell_type": "markdown",
   "metadata": {
    "colab_type": "text",
    "id": "_HvL8pgZStAp"
   },
   "source": [
    "Based on the normalized two-way tables above, we find that: \n",
    "* people who identify themselves (typeofid) verbally (V) is more likely to be frisked than if they had presented a photo id (P) or had refused (R). \n",
    "* officers who explain their reason for stopping the individual (explnstp) are more likely to frisk them than if they had not explained.\n",
    "* individuals who display evasive response when questioned (ac_evasv) and change direction at the sight of officer (ac_cgdir) are more likely to be frisked."
   ]
  },
  {
   "cell_type": "markdown",
   "metadata": {
    "colab_type": "text",
    "id": "_RgdGhXKYAIM"
   },
   "source": [
    "## Feature Engineering\n",
    "Some of the feature engineering like scaling needs to be done in the cross-validation loop, but some of the data may need to be engineered out on a global scale. These include removal of noise from data, conversion of categorical parameters into binary attributes, and sampling of dataset. "
   ]
  },
  {
   "cell_type": "markdown",
   "metadata": {
    "colab_type": "text",
    "id": "eoAUDH6QlQ8f"
   },
   "source": [
    "### Remove noise from data (age, height & weight) found in exploration"
   ]
  },
  {
   "cell_type": "code",
   "execution_count": 49,
   "metadata": {
    "colab": {
     "base_uri": "https://localhost:8080/",
     "height": 34
    },
    "colab_type": "code",
    "executionInfo": {
     "elapsed": 7599,
     "status": "ok",
     "timestamp": 1587353707653,
     "user": {
      "displayName": "Vee Lee Koh",
      "photoUrl": "https://lh3.googleusercontent.com/a-/AOh14Gjj2fkNUadlioLjx3UkcyKd5Ff-x9Vb-9bwf55Q6g=s64",
      "userId": "02870426395196104300"
     },
     "user_tz": 300
    },
    "id": "Erte7LRHkgVw",
    "outputId": "ed1016c7-0742-49f6-be28-48a950080cca"
   },
   "outputs": [
    {
     "data": {
      "text/plain": [
       "(638447, 25)"
      ]
     },
     "execution_count": 49,
     "metadata": {},
     "output_type": "execute_result"
    }
   ],
   "source": [
    "# Create deep copy of processed dataset\n",
    "snf_data_feat = snf_data_toclean.copy()\n",
    "snf_data_feat.shape"
   ]
  },
  {
   "cell_type": "code",
   "execution_count": 50,
   "metadata": {
    "colab": {
     "base_uri": "https://localhost:8080/",
     "height": 140
    },
    "colab_type": "code",
    "executionInfo": {
     "elapsed": 7031,
     "status": "ok",
     "timestamp": 1587353708533,
     "user": {
      "displayName": "Vee Lee Koh",
      "photoUrl": "https://lh3.googleusercontent.com/a-/AOh14Gjj2fkNUadlioLjx3UkcyKd5Ff-x9Vb-9bwf55Q6g=s64",
      "userId": "02870426395196104300"
     },
     "user_tz": 300
    },
    "id": "fgfRejqtNfZv",
    "outputId": "1c45f47d-8fe3-4cd1-84c4-b4ade6c9cdc6"
   },
   "outputs": [
    {
     "data": {
      "text/html": [
       "<div>\n",
       "<style scoped>\n",
       "    .dataframe tbody tr th:only-of-type {\n",
       "        vertical-align: middle;\n",
       "    }\n",
       "\n",
       "    .dataframe tbody tr th {\n",
       "        vertical-align: top;\n",
       "    }\n",
       "\n",
       "    .dataframe thead th {\n",
       "        text-align: right;\n",
       "    }\n",
       "</style>\n",
       "<table border=\"1\" class=\"dataframe\">\n",
       "  <thead>\n",
       "    <tr style=\"text-align: right;\">\n",
       "      <th></th>\n",
       "      <th>count</th>\n",
       "      <th>mean</th>\n",
       "      <th>std</th>\n",
       "      <th>min</th>\n",
       "      <th>25%</th>\n",
       "      <th>50%</th>\n",
       "      <th>75%</th>\n",
       "      <th>max</th>\n",
       "    </tr>\n",
       "  </thead>\n",
       "  <tbody>\n",
       "    <tr>\n",
       "      <th>age</th>\n",
       "      <td>634006.0</td>\n",
       "      <td>27.872288</td>\n",
       "      <td>11.670406</td>\n",
       "      <td>5.0</td>\n",
       "      <td>19.0</td>\n",
       "      <td>24.0</td>\n",
       "      <td>34.0</td>\n",
       "      <td>100.0</td>\n",
       "    </tr>\n",
       "    <tr>\n",
       "      <th>height</th>\n",
       "      <td>634006.0</td>\n",
       "      <td>68.570288</td>\n",
       "      <td>3.116178</td>\n",
       "      <td>40.0</td>\n",
       "      <td>67.0</td>\n",
       "      <td>69.0</td>\n",
       "      <td>71.0</td>\n",
       "      <td>90.0</td>\n",
       "    </tr>\n",
       "    <tr>\n",
       "      <th>weight</th>\n",
       "      <td>634006.0</td>\n",
       "      <td>168.677025</td>\n",
       "      <td>28.117731</td>\n",
       "      <td>50.0</td>\n",
       "      <td>150.0</td>\n",
       "      <td>165.0</td>\n",
       "      <td>180.0</td>\n",
       "      <td>300.0</td>\n",
       "    </tr>\n",
       "  </tbody>\n",
       "</table>\n",
       "</div>"
      ],
      "text/plain": [
       "           count        mean        std   min    25%    50%    75%    max\n",
       "age     634006.0   27.872288  11.670406   5.0   19.0   24.0   34.0  100.0\n",
       "height  634006.0   68.570288   3.116178  40.0   67.0   69.0   71.0   90.0\n",
       "weight  634006.0  168.677025  28.117731  50.0  150.0  165.0  180.0  300.0"
      ]
     },
     "execution_count": 50,
     "metadata": {},
     "output_type": "execute_result"
    }
   ],
   "source": [
    "### Remove erroneous ages, heights and weights\n",
    "\n",
    "# Remove rows with ages below 5 and above 100 years old \n",
    "snf_data_feat = snf_data_feat[(snf_data_feat['age']>=5) & (snf_data_feat['age']<=100)]\n",
    "\n",
    "# Remove rows with heights below 40 in and above 90 in\n",
    "snf_data_feat = snf_data_feat[(snf_data_feat['height']>=40) & (snf_data_feat['height']<=90)]\n",
    "\n",
    "# Remove rows with weights below 50 lbs and above 300 lbs\n",
    "snf_data_feat = snf_data_feat[(snf_data_feat['weight']>=50) & (snf_data_feat['weight']<=300)]\n",
    "\n",
    "# Check if some rows were removed correctly \n",
    "snf_data_feat[['age','height','weight']].describe().transpose()"
   ]
  },
  {
   "cell_type": "code",
   "execution_count": 51,
   "metadata": {
    "colab": {
     "base_uri": "https://localhost:8080/",
     "height": 336
    },
    "colab_type": "code",
    "executionInfo": {
     "elapsed": 7202,
     "status": "ok",
     "timestamp": 1587353709011,
     "user": {
      "displayName": "Vee Lee Koh",
      "photoUrl": "https://lh3.googleusercontent.com/a-/AOh14Gjj2fkNUadlioLjx3UkcyKd5Ff-x9Vb-9bwf55Q6g=s64",
      "userId": "02870426395196104300"
     },
     "user_tz": 300
    },
    "id": "d-jMHXwYxJ5S",
    "outputId": "3438f30c-6a7f-4978-9580-4992380019ed"
   },
   "outputs": [
    {
     "data": {
      "image/png": "[encoded data removed]",
      "text/plain": [
       "<Figure size 432x288 with 3 Axes>"
      ]
     },
     "metadata": {
      "needs_background": "light"
     },
     "output_type": "display_data"
    }
   ],
   "source": [
    "# Visualize distribution of ages, heights and weights\n",
    "plt.subplot(131)\n",
    "snf_data_feat.boxplot('age')\n",
    "plt.subplot(132)\n",
    "snf_data_feat.boxplot('height')\n",
    "plt.subplot(133)\n",
    "snf_data_feat.boxplot('weight')\n",
    "plt.subplots_adjust(left=0.0, bottom=0.0, right=2.5, top=1, wspace=0.2, hspace=0.2)"
   ]
  },
  {
   "cell_type": "markdown",
   "metadata": {
    "colab_type": "text",
    "id": "OLo0TjpRUwC8"
   },
   "source": [
    "Although outliers still exist in these 3 attributes, I believe they're clean enough for us to proceed with analysis. Will consider revisiting if model accuracy needs to be improved."
   ]
  },
  {
   "cell_type": "markdown",
   "metadata": {
    "colab_type": "text",
    "id": "__QqcDsUQRtF"
   },
   "source": [
    "### Convert categorical values into binary attributes using binarization or One Hot Encoding\n",
    "\n",
    "This is done to eliminate any ordinal relationship or magnitude differences between nominal categorical data, thus improving model accuracy."
   ]
  },
  {
   "cell_type": "code",
   "execution_count": 52,
   "metadata": {
    "colab": {
     "base_uri": "https://localhost:8080/",
     "height": 396
    },
    "colab_type": "code",
    "executionInfo": {
     "elapsed": 5681,
     "status": "ok",
     "timestamp": 1587353709289,
     "user": {
      "displayName": "Vee Lee Koh",
      "photoUrl": "https://lh3.googleusercontent.com/a-/AOh14Gjj2fkNUadlioLjx3UkcyKd5Ff-x9Vb-9bwf55Q6g=s64",
      "userId": "02870426395196104300"
     },
     "user_tz": 300
    },
    "id": "2jVgnuVWQRtV",
    "outputId": "ad368fb2-4331-44ec-9fed-b1944888f6db"
   },
   "outputs": [
    {
     "data": {
      "text/plain": [
       "sex          2\n",
       "race         6\n",
       "haircolr     9\n",
       "eyecolor    10\n",
       "build        4\n",
       "city         5\n",
       "inout        2\n",
       "trhsloc      3\n",
       "typeofid     3\n",
       "othpers      2\n",
       "explnstp     2\n",
       "offunif      2\n",
       "ac_rept      2\n",
       "ac_proxm     2\n",
       "ac_evasv     2\n",
       "ac_assoc     2\n",
       "ac_cgdir     2\n",
       "ac_incid     2\n",
       "ac_time      2\n",
       "ac_stsnd     2\n",
       "frisked      2\n",
       "dtype: int64"
      ]
     },
     "execution_count": 52,
     "metadata": {},
     "output_type": "execute_result"
    }
   ],
   "source": [
    "# View number of unique values for each cateogorical parameter\n",
    "snf_data_feat[str_cols].nunique()"
   ]
  },
  {
   "cell_type": "code",
   "execution_count": 53,
   "metadata": {
    "colab": {
     "base_uri": "https://localhost:8080/",
     "height": 120
    },
    "colab_type": "code",
    "executionInfo": {
     "elapsed": 5931,
     "status": "ok",
     "timestamp": 1587353709812,
     "user": {
      "displayName": "Vee Lee Koh",
      "photoUrl": "https://lh3.googleusercontent.com/a-/AOh14Gjj2fkNUadlioLjx3UkcyKd5Ff-x9Vb-9bwf55Q6g=s64",
      "userId": "02870426395196104300"
     },
     "user_tz": 300
    },
    "id": "2YBIR-iNQRta",
    "outputId": "1fc6cdec-1f8c-4941-bcda-961480483566"
   },
   "outputs": [
    {
     "name": "stdout",
     "output_type": "stream",
     "text": [
      "M    590604\n",
      "F     43402\n",
      "Name: sex, dtype: int64\n",
      "1    590604\n",
      "0     43402\n",
      "Name: sex, dtype: int64\n"
     ]
    }
   ],
   "source": [
    "### sex parameter \n",
    "# View unique values for sex parameter\n",
    "print(snf_data_feat['sex'].value_counts())\n",
    "\n",
    "# Convert sex parameter into binary\n",
    "snf_data_feat['sex'] = snf_data_feat['sex'].replace({'M': 1, 'F': 0})\n",
    "\n",
    "# Check if values converted correctly\n",
    "print(snf_data_feat['sex'].value_counts())"
   ]
  },
  {
   "cell_type": "code",
   "execution_count": 54,
   "metadata": {
    "colab": {
     "base_uri": "https://localhost:8080/",
     "height": 120
    },
    "colab_type": "code",
    "executionInfo": {
     "elapsed": 6563,
     "status": "ok",
     "timestamp": 1587353710944,
     "user": {
      "displayName": "Vee Lee Koh",
      "photoUrl": "https://lh3.googleusercontent.com/a-/AOh14Gjj2fkNUadlioLjx3UkcyKd5Ff-x9Vb-9bwf55Q6g=s64",
      "userId": "02870426395196104300"
     },
     "user_tz": 300
    },
    "id": "2JHBqJjRQRte",
    "outputId": "93d0d35a-979e-40a7-b468-418770c0b8a3"
   },
   "outputs": [
    {
     "name": "stdout",
     "output_type": "stream",
     "text": [
      "O    505557\n",
      "I    128449\n",
      "Name: inout, dtype: int64\n",
      "0    505557\n",
      "1    128449\n",
      "Name: inout, dtype: int64\n"
     ]
    }
   ],
   "source": [
    "### inout parameter\n",
    "print(snf_data_feat['inout'].value_counts())\n",
    "\n",
    "# Convert inout parameter into binary\n",
    "snf_data_feat['inout'] = snf_data_feat['inout'].replace({'I': 1, 'O': 0})\n",
    "\n",
    "# Check if values converted correctly\n",
    "print(snf_data_feat['inout'].value_counts())"
   ]
  },
  {
   "cell_type": "code",
   "execution_count": 55,
   "metadata": {
    "colab": {
     "base_uri": "https://localhost:8080/",
     "height": 69
    },
    "colab_type": "code",
    "executionInfo": {
     "elapsed": 6035,
     "status": "ok",
     "timestamp": 1587353711265,
     "user": {
      "displayName": "Vee Lee Koh",
      "photoUrl": "https://lh3.googleusercontent.com/a-/AOh14Gjj2fkNUadlioLjx3UkcyKd5Ff-x9Vb-9bwf55Q6g=s64",
      "userId": "02870426395196104300"
     },
     "user_tz": 300
    },
    "id": "9v_pOh0EQRtj",
    "outputId": "6ee08c60-eeef-42cf-c6a9-f4629c031e6d"
   },
   "outputs": [
    {
     "data": {
      "text/plain": [
       "Index(['othpers', 'explnstp', 'offunif', 'ac_rept', 'ac_proxm', 'ac_evasv',\n",
       "       'ac_assoc', 'ac_cgdir', 'ac_incid', 'ac_time', 'ac_stsnd', 'frisked'],\n",
       "      dtype='object')"
      ]
     },
     "execution_count": 55,
     "metadata": {},
     "output_type": "execute_result"
    }
   ],
   "source": [
    "# Retrieve list of parameters with yes/no values\n",
    "yesno_cols = str_cols[snf_data_feat[str_cols].nunique() == 2][2:]\n",
    "yesno_cols"
   ]
  },
  {
   "cell_type": "code",
   "execution_count": 56,
   "metadata": {
    "colab": {
     "base_uri": "https://localhost:8080/",
     "height": 109
    },
    "colab_type": "code",
    "executionInfo": {
     "elapsed": 6005,
     "status": "ok",
     "timestamp": 1587353711709,
     "user": {
      "displayName": "Vee Lee Koh",
      "photoUrl": "https://lh3.googleusercontent.com/a-/AOh14Gjj2fkNUadlioLjx3UkcyKd5Ff-x9Vb-9bwf55Q6g=s64",
      "userId": "02870426395196104300"
     },
     "user_tz": 300
    },
    "id": "5PUeCdelQRtm",
    "outputId": "52c04ad3-92d8-4f60-900c-6a22529d50b7"
   },
   "outputs": [
    {
     "data": {
      "text/html": [
       "<div>\n",
       "<style scoped>\n",
       "    .dataframe tbody tr th:only-of-type {\n",
       "        vertical-align: middle;\n",
       "    }\n",
       "\n",
       "    .dataframe tbody tr th {\n",
       "        vertical-align: top;\n",
       "    }\n",
       "\n",
       "    .dataframe thead th {\n",
       "        text-align: right;\n",
       "    }\n",
       "</style>\n",
       "<table border=\"1\" class=\"dataframe\">\n",
       "  <thead>\n",
       "    <tr style=\"text-align: right;\">\n",
       "      <th></th>\n",
       "      <th>othpers</th>\n",
       "      <th>explnstp</th>\n",
       "      <th>offunif</th>\n",
       "      <th>ac_rept</th>\n",
       "      <th>ac_proxm</th>\n",
       "      <th>ac_evasv</th>\n",
       "      <th>ac_assoc</th>\n",
       "      <th>ac_cgdir</th>\n",
       "      <th>ac_incid</th>\n",
       "      <th>ac_time</th>\n",
       "      <th>ac_stsnd</th>\n",
       "      <th>frisked</th>\n",
       "    </tr>\n",
       "  </thead>\n",
       "  <tbody>\n",
       "    <tr>\n",
       "      <th>N</th>\n",
       "      <td>496311</td>\n",
       "      <td>498</td>\n",
       "      <td>165791</td>\n",
       "      <td>562386</td>\n",
       "      <td>499349</td>\n",
       "      <td>511211</td>\n",
       "      <td>607732</td>\n",
       "      <td>478594</td>\n",
       "      <td>254841</td>\n",
       "      <td>366278</td>\n",
       "      <td>618596</td>\n",
       "      <td>278072</td>\n",
       "    </tr>\n",
       "    <tr>\n",
       "      <th>Y</th>\n",
       "      <td>137695</td>\n",
       "      <td>633508</td>\n",
       "      <td>468215</td>\n",
       "      <td>71620</td>\n",
       "      <td>134657</td>\n",
       "      <td>122795</td>\n",
       "      <td>26274</td>\n",
       "      <td>155412</td>\n",
       "      <td>379165</td>\n",
       "      <td>267728</td>\n",
       "      <td>15410</td>\n",
       "      <td>355934</td>\n",
       "    </tr>\n",
       "  </tbody>\n",
       "</table>\n",
       "</div>"
      ],
      "text/plain": [
       "   othpers  explnstp  offunif  ac_rept  ac_proxm  ac_evasv  ac_assoc  \\\n",
       "N   496311       498   165791   562386    499349    511211    607732   \n",
       "Y   137695    633508   468215    71620    134657    122795     26274   \n",
       "\n",
       "   ac_cgdir  ac_incid  ac_time  ac_stsnd  frisked  \n",
       "N    478594    254841   366278    618596   278072  \n",
       "Y    155412    379165   267728     15410   355934  "
      ]
     },
     "execution_count": 56,
     "metadata": {},
     "output_type": "execute_result"
    }
   ],
   "source": [
    "### Yes/No parameter conversion\n",
    "# View unique values for different yes/no parameters\n",
    "snf_data_feat[yesno_cols].apply(pd.value_counts)"
   ]
  },
  {
   "cell_type": "code",
   "execution_count": 57,
   "metadata": {
    "colab": {
     "base_uri": "https://localhost:8080/",
     "height": 109
    },
    "colab_type": "code",
    "executionInfo": {
     "elapsed": 8996,
     "status": "ok",
     "timestamp": 1587353714972,
     "user": {
      "displayName": "Vee Lee Koh",
      "photoUrl": "https://lh3.googleusercontent.com/a-/AOh14Gjj2fkNUadlioLjx3UkcyKd5Ff-x9Vb-9bwf55Q6g=s64",
      "userId": "02870426395196104300"
     },
     "user_tz": 300
    },
    "id": "nQCKV0fyQRtp",
    "outputId": "9f27cff4-bee0-413d-f95f-66ec826414db"
   },
   "outputs": [
    {
     "data": {
      "text/html": [
       "<div>\n",
       "<style scoped>\n",
       "    .dataframe tbody tr th:only-of-type {\n",
       "        vertical-align: middle;\n",
       "    }\n",
       "\n",
       "    .dataframe tbody tr th {\n",
       "        vertical-align: top;\n",
       "    }\n",
       "\n",
       "    .dataframe thead th {\n",
       "        text-align: right;\n",
       "    }\n",
       "</style>\n",
       "<table border=\"1\" class=\"dataframe\">\n",
       "  <thead>\n",
       "    <tr style=\"text-align: right;\">\n",
       "      <th></th>\n",
       "      <th>othpers</th>\n",
       "      <th>explnstp</th>\n",
       "      <th>offunif</th>\n",
       "      <th>ac_rept</th>\n",
       "      <th>ac_proxm</th>\n",
       "      <th>ac_evasv</th>\n",
       "      <th>ac_assoc</th>\n",
       "      <th>ac_cgdir</th>\n",
       "      <th>ac_incid</th>\n",
       "      <th>ac_time</th>\n",
       "      <th>ac_stsnd</th>\n",
       "      <th>frisked</th>\n",
       "    </tr>\n",
       "  </thead>\n",
       "  <tbody>\n",
       "    <tr>\n",
       "      <th>0</th>\n",
       "      <td>496311</td>\n",
       "      <td>498</td>\n",
       "      <td>165791</td>\n",
       "      <td>562386</td>\n",
       "      <td>499349</td>\n",
       "      <td>511211</td>\n",
       "      <td>607732</td>\n",
       "      <td>478594</td>\n",
       "      <td>254841</td>\n",
       "      <td>366278</td>\n",
       "      <td>618596</td>\n",
       "      <td>278072</td>\n",
       "    </tr>\n",
       "    <tr>\n",
       "      <th>1</th>\n",
       "      <td>137695</td>\n",
       "      <td>633508</td>\n",
       "      <td>468215</td>\n",
       "      <td>71620</td>\n",
       "      <td>134657</td>\n",
       "      <td>122795</td>\n",
       "      <td>26274</td>\n",
       "      <td>155412</td>\n",
       "      <td>379165</td>\n",
       "      <td>267728</td>\n",
       "      <td>15410</td>\n",
       "      <td>355934</td>\n",
       "    </tr>\n",
       "  </tbody>\n",
       "</table>\n",
       "</div>"
      ],
      "text/plain": [
       "   othpers  explnstp  offunif  ac_rept  ac_proxm  ac_evasv  ac_assoc  \\\n",
       "0   496311       498   165791   562386    499349    511211    607732   \n",
       "1   137695    633508   468215    71620    134657    122795     26274   \n",
       "\n",
       "   ac_cgdir  ac_incid  ac_time  ac_stsnd  frisked  \n",
       "0    478594    254841   366278    618596   278072  \n",
       "1    155412    379165   267728     15410   355934  "
      ]
     },
     "execution_count": 57,
     "metadata": {},
     "output_type": "execute_result"
    }
   ],
   "source": [
    "# Convert Yes/No columns to integers (1/0)\n",
    "snf_data_feat[yesno_cols] = snf_data_feat[yesno_cols].replace({'N':0, 'Y':1})\n",
    "\n",
    "# Check if values converted correctly\n",
    "snf_data_feat[yesno_cols].apply(pd.value_counts)"
   ]
  },
  {
   "cell_type": "code",
   "execution_count": 58,
   "metadata": {
    "colab": {
     "base_uri": "https://localhost:8080/",
     "height": 34
    },
    "colab_type": "code",
    "executionInfo": {
     "elapsed": 9144,
     "status": "ok",
     "timestamp": 1587353715424,
     "user": {
      "displayName": "Vee Lee Koh",
      "photoUrl": "https://lh3.googleusercontent.com/a-/AOh14Gjj2fkNUadlioLjx3UkcyKd5Ff-x9Vb-9bwf55Q6g=s64",
      "userId": "02870426395196104300"
     },
     "user_tz": 300
    },
    "id": "NTMp9pLIQRtr",
    "outputId": "99e744a1-4028-48c6-a6cb-99def8caae37"
   },
   "outputs": [
    {
     "data": {
      "text/plain": [
       "Index(['race', 'haircolr', 'eyecolor', 'build', 'city', 'trhsloc', 'typeofid'], dtype='object')"
      ]
     },
     "execution_count": 58,
     "metadata": {},
     "output_type": "execute_result"
    }
   ],
   "source": [
    "# Retrieve list of parameters with more than 2 values\n",
    "ohc_cols = str_cols[snf_data_feat[str_cols].nunique() > 2]\n",
    "ohc_cols"
   ]
  },
  {
   "cell_type": "code",
   "execution_count": 59,
   "metadata": {
    "colab": {
     "base_uri": "https://localhost:8080/",
     "height": 238
    },
    "colab_type": "code",
    "executionInfo": {
     "elapsed": 9669,
     "status": "ok",
     "timestamp": 1587353716212,
     "user": {
      "displayName": "Vee Lee Koh",
      "photoUrl": "https://lh3.googleusercontent.com/a-/AOh14Gjj2fkNUadlioLjx3UkcyKd5Ff-x9Vb-9bwf55Q6g=s64",
      "userId": "02870426395196104300"
     },
     "user_tz": 300
    },
    "id": "E5Y4UF-mQRtu",
    "outputId": "ee1e5e3c-4151-4593-c1f5-7ccf72395a4e"
   },
   "outputs": [
    {
     "data": {
      "text/html": [
       "<div>\n",
       "<style scoped>\n",
       "    .dataframe tbody tr th:only-of-type {\n",
       "        vertical-align: middle;\n",
       "    }\n",
       "\n",
       "    .dataframe tbody tr th {\n",
       "        vertical-align: top;\n",
       "    }\n",
       "\n",
       "    .dataframe thead th {\n",
       "        text-align: right;\n",
       "    }\n",
       "</style>\n",
       "<table border=\"1\" class=\"dataframe\">\n",
       "  <thead>\n",
       "    <tr style=\"text-align: right;\">\n",
       "      <th></th>\n",
       "      <th>sex</th>\n",
       "      <th>age</th>\n",
       "      <th>height</th>\n",
       "      <th>weight</th>\n",
       "      <th>timestop</th>\n",
       "      <th>inout</th>\n",
       "      <th>othpers</th>\n",
       "      <th>explnstp</th>\n",
       "      <th>offunif</th>\n",
       "      <th>ac_rept</th>\n",
       "      <th>...</th>\n",
       "      <th>city_MANHATTAN</th>\n",
       "      <th>city_QUEENS</th>\n",
       "      <th>city_STATEN IS</th>\n",
       "      <th>trhsloc_H</th>\n",
       "      <th>trhsloc_P</th>\n",
       "      <th>trhsloc_T</th>\n",
       "      <th>typeofid_P</th>\n",
       "      <th>typeofid_R</th>\n",
       "      <th>typeofid_V</th>\n",
       "      <th>frisked</th>\n",
       "    </tr>\n",
       "  </thead>\n",
       "  <tbody>\n",
       "    <tr>\n",
       "      <th>0</th>\n",
       "      <td>1</td>\n",
       "      <td>21</td>\n",
       "      <td>68</td>\n",
       "      <td>182</td>\n",
       "      <td>0</td>\n",
       "      <td>0</td>\n",
       "      <td>0</td>\n",
       "      <td>1</td>\n",
       "      <td>0</td>\n",
       "      <td>0</td>\n",
       "      <td>...</td>\n",
       "      <td>0</td>\n",
       "      <td>1</td>\n",
       "      <td>0</td>\n",
       "      <td>0</td>\n",
       "      <td>1</td>\n",
       "      <td>0</td>\n",
       "      <td>0</td>\n",
       "      <td>0</td>\n",
       "      <td>1</td>\n",
       "      <td>1</td>\n",
       "    </tr>\n",
       "    <tr>\n",
       "      <th>1</th>\n",
       "      <td>1</td>\n",
       "      <td>15</td>\n",
       "      <td>66</td>\n",
       "      <td>140</td>\n",
       "      <td>5</td>\n",
       "      <td>0</td>\n",
       "      <td>0</td>\n",
       "      <td>1</td>\n",
       "      <td>0</td>\n",
       "      <td>0</td>\n",
       "      <td>...</td>\n",
       "      <td>0</td>\n",
       "      <td>1</td>\n",
       "      <td>0</td>\n",
       "      <td>0</td>\n",
       "      <td>1</td>\n",
       "      <td>0</td>\n",
       "      <td>0</td>\n",
       "      <td>0</td>\n",
       "      <td>1</td>\n",
       "      <td>1</td>\n",
       "    </tr>\n",
       "    <tr>\n",
       "      <th>2</th>\n",
       "      <td>1</td>\n",
       "      <td>17</td>\n",
       "      <td>67</td>\n",
       "      <td>130</td>\n",
       "      <td>7</td>\n",
       "      <td>0</td>\n",
       "      <td>1</td>\n",
       "      <td>1</td>\n",
       "      <td>1</td>\n",
       "      <td>0</td>\n",
       "      <td>...</td>\n",
       "      <td>0</td>\n",
       "      <td>1</td>\n",
       "      <td>0</td>\n",
       "      <td>1</td>\n",
       "      <td>0</td>\n",
       "      <td>0</td>\n",
       "      <td>0</td>\n",
       "      <td>0</td>\n",
       "      <td>1</td>\n",
       "      <td>1</td>\n",
       "    </tr>\n",
       "    <tr>\n",
       "      <th>3</th>\n",
       "      <td>1</td>\n",
       "      <td>17</td>\n",
       "      <td>67</td>\n",
       "      <td>130</td>\n",
       "      <td>7</td>\n",
       "      <td>0</td>\n",
       "      <td>1</td>\n",
       "      <td>1</td>\n",
       "      <td>1</td>\n",
       "      <td>0</td>\n",
       "      <td>...</td>\n",
       "      <td>0</td>\n",
       "      <td>1</td>\n",
       "      <td>0</td>\n",
       "      <td>1</td>\n",
       "      <td>0</td>\n",
       "      <td>0</td>\n",
       "      <td>0</td>\n",
       "      <td>0</td>\n",
       "      <td>1</td>\n",
       "      <td>1</td>\n",
       "    </tr>\n",
       "    <tr>\n",
       "      <th>4</th>\n",
       "      <td>1</td>\n",
       "      <td>20</td>\n",
       "      <td>75</td>\n",
       "      <td>185</td>\n",
       "      <td>7</td>\n",
       "      <td>0</td>\n",
       "      <td>1</td>\n",
       "      <td>1</td>\n",
       "      <td>1</td>\n",
       "      <td>0</td>\n",
       "      <td>...</td>\n",
       "      <td>0</td>\n",
       "      <td>1</td>\n",
       "      <td>0</td>\n",
       "      <td>1</td>\n",
       "      <td>0</td>\n",
       "      <td>0</td>\n",
       "      <td>0</td>\n",
       "      <td>0</td>\n",
       "      <td>1</td>\n",
       "      <td>1</td>\n",
       "    </tr>\n",
       "  </tbody>\n",
       "</table>\n",
       "<p>5 rows × 58 columns</p>\n",
       "</div>"
      ],
      "text/plain": [
       "   sex  age  height  weight  timestop  inout  othpers  explnstp  offunif  \\\n",
       "0    1   21      68     182         0      0        0         1        0   \n",
       "1    1   15      66     140         5      0        0         1        0   \n",
       "2    1   17      67     130         7      0        1         1        1   \n",
       "3    1   17      67     130         7      0        1         1        1   \n",
       "4    1   20      75     185         7      0        1         1        1   \n",
       "\n",
       "   ac_rept  ...  city_MANHATTAN  city_QUEENS  city_STATEN IS  trhsloc_H  \\\n",
       "0        0  ...               0            1               0          0   \n",
       "1        0  ...               0            1               0          0   \n",
       "2        0  ...               0            1               0          1   \n",
       "3        0  ...               0            1               0          1   \n",
       "4        0  ...               0            1               0          1   \n",
       "\n",
       "   trhsloc_P  trhsloc_T  typeofid_P  typeofid_R  typeofid_V  frisked  \n",
       "0          1          0           0           0           1        1  \n",
       "1          1          0           0           0           1        1  \n",
       "2          0          0           0           0           1        1  \n",
       "3          0          0           0           0           1        1  \n",
       "4          0          0           0           0           1        1  \n",
       "\n",
       "[5 rows x 58 columns]"
      ]
     },
     "execution_count": 59,
     "metadata": {},
     "output_type": "execute_result"
    }
   ],
   "source": [
    " # Convert all categorical data into binary using One Hot Encoding\n",
    "ohc_df = pd.get_dummies(snf_data_feat[ohc_cols])\n",
    "\n",
    "# Concatenate One Hot Encoding dataframe with original dataframe and the label (frisked) as the last column\n",
    "snf_data_feat = pd.concat([snf_data_feat.iloc[:,:-1], ohc_df, snf_data_feat.iloc[:,-1]], axis=1)\n",
    "\n",
    "# Remove columns\n",
    "snf_data_feat.drop(ohc_cols, axis=1, inplace=True)\n",
    "\n",
    "snf_data_feat.head()"
   ]
  },
  {
   "cell_type": "code",
   "execution_count": 60,
   "metadata": {
    "colab": {
     "base_uri": "https://localhost:8080/",
     "height": 146
    },
    "colab_type": "code",
    "executionInfo": {
     "elapsed": 10222,
     "status": "ok",
     "timestamp": 1587353717045,
     "user": {
      "displayName": "Vee Lee Koh",
      "photoUrl": "https://lh3.googleusercontent.com/a-/AOh14Gjj2fkNUadlioLjx3UkcyKd5Ff-x9Vb-9bwf55Q6g=s64",
      "userId": "02870426395196104300"
     },
     "user_tz": 300
    },
    "id": "C-lqT1y2TSle",
    "outputId": "bf7aa77f-f724-4cea-d7cc-09ad71f3c635"
   },
   "outputs": [
    {
     "data": {
      "text/html": [
       "<div>\n",
       "<style scoped>\n",
       "    .dataframe tbody tr th:only-of-type {\n",
       "        vertical-align: middle;\n",
       "    }\n",
       "\n",
       "    .dataframe tbody tr th {\n",
       "        vertical-align: top;\n",
       "    }\n",
       "\n",
       "    .dataframe thead th {\n",
       "        text-align: right;\n",
       "    }\n",
       "</style>\n",
       "<table border=\"1\" class=\"dataframe\">\n",
       "  <thead>\n",
       "    <tr style=\"text-align: right;\">\n",
       "      <th></th>\n",
       "      <th>sex</th>\n",
       "      <th>inout</th>\n",
       "      <th>othpers</th>\n",
       "      <th>explnstp</th>\n",
       "      <th>offunif</th>\n",
       "      <th>ac_rept</th>\n",
       "      <th>ac_proxm</th>\n",
       "      <th>ac_evasv</th>\n",
       "      <th>ac_assoc</th>\n",
       "      <th>ac_cgdir</th>\n",
       "      <th>...</th>\n",
       "      <th>city_MANHATTAN</th>\n",
       "      <th>city_QUEENS</th>\n",
       "      <th>city_STATEN IS</th>\n",
       "      <th>trhsloc_H</th>\n",
       "      <th>trhsloc_P</th>\n",
       "      <th>trhsloc_T</th>\n",
       "      <th>typeofid_P</th>\n",
       "      <th>typeofid_R</th>\n",
       "      <th>typeofid_V</th>\n",
       "      <th>frisked</th>\n",
       "    </tr>\n",
       "  </thead>\n",
       "  <tbody>\n",
       "    <tr>\n",
       "      <th>0</th>\n",
       "      <td>43402</td>\n",
       "      <td>505557</td>\n",
       "      <td>496311</td>\n",
       "      <td>498</td>\n",
       "      <td>165791</td>\n",
       "      <td>562386</td>\n",
       "      <td>499349</td>\n",
       "      <td>511211</td>\n",
       "      <td>607732</td>\n",
       "      <td>478594</td>\n",
       "      <td>...</td>\n",
       "      <td>506155</td>\n",
       "      <td>489974</td>\n",
       "      <td>607758</td>\n",
       "      <td>548489</td>\n",
       "      <td>131242</td>\n",
       "      <td>588281</td>\n",
       "      <td>287987</td>\n",
       "      <td>619389</td>\n",
       "      <td>360636</td>\n",
       "      <td>278072</td>\n",
       "    </tr>\n",
       "    <tr>\n",
       "      <th>1</th>\n",
       "      <td>590604</td>\n",
       "      <td>128449</td>\n",
       "      <td>137695</td>\n",
       "      <td>633508</td>\n",
       "      <td>468215</td>\n",
       "      <td>71620</td>\n",
       "      <td>134657</td>\n",
       "      <td>122795</td>\n",
       "      <td>26274</td>\n",
       "      <td>155412</td>\n",
       "      <td>...</td>\n",
       "      <td>127851</td>\n",
       "      <td>144032</td>\n",
       "      <td>26248</td>\n",
       "      <td>85517</td>\n",
       "      <td>502764</td>\n",
       "      <td>45725</td>\n",
       "      <td>346019</td>\n",
       "      <td>14617</td>\n",
       "      <td>273370</td>\n",
       "      <td>355934</td>\n",
       "    </tr>\n",
       "  </tbody>\n",
       "</table>\n",
       "<p>2 rows × 54 columns</p>\n",
       "</div>"
      ],
      "text/plain": [
       "      sex   inout  othpers  explnstp  offunif  ac_rept  ac_proxm  ac_evasv  \\\n",
       "0   43402  505557   496311       498   165791   562386    499349    511211   \n",
       "1  590604  128449   137695    633508   468215    71620    134657    122795   \n",
       "\n",
       "   ac_assoc  ac_cgdir  ...  city_MANHATTAN  city_QUEENS  city_STATEN IS  \\\n",
       "0    607732    478594  ...          506155       489974          607758   \n",
       "1     26274    155412  ...          127851       144032           26248   \n",
       "\n",
       "   trhsloc_H  trhsloc_P  trhsloc_T  typeofid_P  typeofid_R  typeofid_V  \\\n",
       "0     548489     131242     588281      287987      619389      360636   \n",
       "1      85517     502764      45725      346019       14617      273370   \n",
       "\n",
       "   frisked  \n",
       "0   278072  \n",
       "1   355934  \n",
       "\n",
       "[2 rows x 54 columns]"
      ]
     },
     "execution_count": 60,
     "metadata": {},
     "output_type": "execute_result"
    }
   ],
   "source": [
    "# Get list of columns which have binary values\n",
    "binary_cols = snf_data_feat.columns[5:].insert(loc=0, item=snf_data_feat.columns[0])\n",
    "\n",
    "# View number of values\n",
    "snf_data_feat[binary_cols].apply(pd.value_counts)"
   ]
  },
  {
   "cell_type": "code",
   "execution_count": 61,
   "metadata": {
    "colab": {
     "base_uri": "https://localhost:8080/",
     "height": 177
    },
    "colab_type": "code",
    "executionInfo": {
     "elapsed": 9582,
     "status": "ok",
     "timestamp": 1587353717856,
     "user": {
      "displayName": "Vee Lee Koh",
      "photoUrl": "https://lh3.googleusercontent.com/a-/AOh14Gjj2fkNUadlioLjx3UkcyKd5Ff-x9Vb-9bwf55Q6g=s64",
      "userId": "02870426395196104300"
     },
     "user_tz": 300
    },
    "id": "fyssQgGEpwNI",
    "outputId": "96137933-e96a-4828-8ac3-d9d049101392"
   },
   "outputs": [
    {
     "data": {
      "text/html": [
       "<div>\n",
       "<style scoped>\n",
       "    .dataframe tbody tr th:only-of-type {\n",
       "        vertical-align: middle;\n",
       "    }\n",
       "\n",
       "    .dataframe tbody tr th {\n",
       "        vertical-align: top;\n",
       "    }\n",
       "\n",
       "    .dataframe thead th {\n",
       "        text-align: right;\n",
       "    }\n",
       "</style>\n",
       "<table border=\"1\" class=\"dataframe\">\n",
       "  <thead>\n",
       "    <tr style=\"text-align: right;\">\n",
       "      <th></th>\n",
       "      <th>sex</th>\n",
       "      <th>age</th>\n",
       "      <th>height</th>\n",
       "      <th>weight</th>\n",
       "      <th>timestop</th>\n",
       "      <th>inout</th>\n",
       "      <th>othpers</th>\n",
       "      <th>explnstp</th>\n",
       "      <th>offunif</th>\n",
       "      <th>ac_rept</th>\n",
       "      <th>...</th>\n",
       "      <th>city_MANHATTAN</th>\n",
       "      <th>city_QUEENS</th>\n",
       "      <th>city_STATEN IS</th>\n",
       "      <th>trhsloc_H</th>\n",
       "      <th>trhsloc_P</th>\n",
       "      <th>trhsloc_T</th>\n",
       "      <th>typeofid_P</th>\n",
       "      <th>typeofid_R</th>\n",
       "      <th>typeofid_V</th>\n",
       "      <th>frisked</th>\n",
       "    </tr>\n",
       "  </thead>\n",
       "  <tbody>\n",
       "    <tr>\n",
       "      <th>count</th>\n",
       "      <td>634006.000000</td>\n",
       "      <td>634006.000000</td>\n",
       "      <td>634006.000000</td>\n",
       "      <td>634006.000000</td>\n",
       "      <td>634006.000000</td>\n",
       "      <td>634006.000000</td>\n",
       "      <td>634006.000000</td>\n",
       "      <td>634006.000000</td>\n",
       "      <td>634006.000000</td>\n",
       "      <td>634006.000000</td>\n",
       "      <td>...</td>\n",
       "      <td>634006.000000</td>\n",
       "      <td>634006.000000</td>\n",
       "      <td>634006.000000</td>\n",
       "      <td>634006.000000</td>\n",
       "      <td>634006.000000</td>\n",
       "      <td>634006.000000</td>\n",
       "      <td>634006.000000</td>\n",
       "      <td>634006.000000</td>\n",
       "      <td>634006.000000</td>\n",
       "      <td>634006.000000</td>\n",
       "    </tr>\n",
       "    <tr>\n",
       "      <th>mean</th>\n",
       "      <td>0.931543</td>\n",
       "      <td>27.872288</td>\n",
       "      <td>68.570288</td>\n",
       "      <td>168.677025</td>\n",
       "      <td>1438.010790</td>\n",
       "      <td>0.202599</td>\n",
       "      <td>0.217182</td>\n",
       "      <td>0.999215</td>\n",
       "      <td>0.738502</td>\n",
       "      <td>0.112964</td>\n",
       "      <td>...</td>\n",
       "      <td>0.201656</td>\n",
       "      <td>0.227178</td>\n",
       "      <td>0.041400</td>\n",
       "      <td>0.134884</td>\n",
       "      <td>0.792996</td>\n",
       "      <td>0.072121</td>\n",
       "      <td>0.545766</td>\n",
       "      <td>0.023055</td>\n",
       "      <td>0.431179</td>\n",
       "      <td>0.561405</td>\n",
       "    </tr>\n",
       "    <tr>\n",
       "      <th>std</th>\n",
       "      <td>0.252528</td>\n",
       "      <td>11.670406</td>\n",
       "      <td>3.116178</td>\n",
       "      <td>28.117731</td>\n",
       "      <td>727.729226</td>\n",
       "      <td>0.401936</td>\n",
       "      <td>0.412328</td>\n",
       "      <td>0.028015</td>\n",
       "      <td>0.439451</td>\n",
       "      <td>0.316549</td>\n",
       "      <td>...</td>\n",
       "      <td>0.401237</td>\n",
       "      <td>0.419009</td>\n",
       "      <td>0.199214</td>\n",
       "      <td>0.341599</td>\n",
       "      <td>0.405159</td>\n",
       "      <td>0.258688</td>\n",
       "      <td>0.497901</td>\n",
       "      <td>0.150078</td>\n",
       "      <td>0.495241</td>\n",
       "      <td>0.496216</td>\n",
       "    </tr>\n",
       "  </tbody>\n",
       "</table>\n",
       "<p>3 rows × 58 columns</p>\n",
       "</div>"
      ],
      "text/plain": [
       "                 sex            age         height         weight  \\\n",
       "count  634006.000000  634006.000000  634006.000000  634006.000000   \n",
       "mean        0.931543      27.872288      68.570288     168.677025   \n",
       "std         0.252528      11.670406       3.116178      28.117731   \n",
       "\n",
       "            timestop          inout        othpers       explnstp  \\\n",
       "count  634006.000000  634006.000000  634006.000000  634006.000000   \n",
       "mean     1438.010790       0.202599       0.217182       0.999215   \n",
       "std       727.729226       0.401936       0.412328       0.028015   \n",
       "\n",
       "             offunif        ac_rept  ...  city_MANHATTAN    city_QUEENS  \\\n",
       "count  634006.000000  634006.000000  ...   634006.000000  634006.000000   \n",
       "mean        0.738502       0.112964  ...        0.201656       0.227178   \n",
       "std         0.439451       0.316549  ...        0.401237       0.419009   \n",
       "\n",
       "       city_STATEN IS      trhsloc_H      trhsloc_P      trhsloc_T  \\\n",
       "count   634006.000000  634006.000000  634006.000000  634006.000000   \n",
       "mean         0.041400       0.134884       0.792996       0.072121   \n",
       "std          0.199214       0.341599       0.405159       0.258688   \n",
       "\n",
       "          typeofid_P     typeofid_R     typeofid_V        frisked  \n",
       "count  634006.000000  634006.000000  634006.000000  634006.000000  \n",
       "mean        0.545766       0.023055       0.431179       0.561405  \n",
       "std         0.497901       0.150078       0.495241       0.496216  \n",
       "\n",
       "[3 rows x 58 columns]"
      ]
     },
     "execution_count": 61,
     "metadata": {},
     "output_type": "execute_result"
    }
   ],
   "source": [
    "# View distribution in mean and std dev of cleaned dataset\n",
    "snf_data_feat.describe().iloc[:3]"
   ]
  },
  {
   "cell_type": "markdown",
   "metadata": {
    "colab_type": "text",
    "id": "aFL3SuC5ei2Y"
   },
   "source": [
    "### Feature Selection using Random Forest Classifier"
   ]
  },
  {
   "cell_type": "code",
   "execution_count": 62,
   "metadata": {
    "colab": {},
    "colab_type": "code",
    "id": "w6TJBgh2dZhl"
   },
   "outputs": [],
   "source": [
    "from sklearn.ensemble import RandomForestClassifier\n",
    "from sklearn import preprocessing\n",
    "import warnings                           # silence warnings that commonly occur with random forest\n",
    "warnings.filterwarnings('ignore')\n",
    "\n",
    "# Create deep copy for feature selection\n",
    "snf_data_feat_selec = snf_data_feat.copy()"
   ]
  },
  {
   "cell_type": "code",
   "execution_count": 63,
   "metadata": {
    "colab": {},
    "colab_type": "code",
    "id": "5L9uu_V5dku1"
   },
   "outputs": [],
   "source": [
    "# Perform feature selection using random forest classifier\n",
    "x = snf_data_feat_selec.iloc[:,:-1]\n",
    "y = snf_data_feat_selec.iloc[:,-1]\n",
    "\n",
    "lab_enc = preprocessing.LabelEncoder(); y_encoded = lab_enc.fit_transform(y) # this removes an encoding error \n",
    "\n",
    "random_forest_feat = RandomForestClassifier(random_state = 50)   # instantiate the random forest  \n",
    "random_forest_feat = random_forest_feat.fit(x,np.ravel(y_encoded)) # fit the random forest\n",
    "importances = random_forest_feat.feature_importances_ # extract the expected feature importances\n",
    "# std = np.std([tree.feature_importances_ for tree in random_forest_feat.estimators_],axis=0) # calculate stdev over trees\n",
    "feat_ranks = np.argsort(importances)[::-1]   # find feature ranks in descending order"
   ]
  },
  {
   "cell_type": "code",
   "execution_count": 64,
   "metadata": {
    "colab": {
     "base_uri": "https://localhost:8080/",
     "height": 1000
    },
    "colab_type": "code",
    "executionInfo": {
     "elapsed": 172034,
     "status": "ok",
     "timestamp": 1587353883581,
     "user": {
      "displayName": "Vee Lee Koh",
      "photoUrl": "https://lh3.googleusercontent.com/a-/AOh14Gjj2fkNUadlioLjx3UkcyKd5Ff-x9Vb-9bwf55Q6g=s64",
      "userId": "02870426395196104300"
     },
     "user_tz": 300
    },
    "id": "p_xxP7lEynB9",
    "outputId": "ed8ed474-c07c-4719-87fa-707de4f82d49"
   },
   "outputs": [
    {
     "name": "stdout",
     "output_type": "stream",
     "text": [
      "Feature Ranking (The feature importance values sum to 1):\n",
      "1. timestop (0.1977)\n",
      "2. age (0.1500)\n",
      "3. weight (0.1292)\n",
      "4. height (0.1165)\n",
      "5. offunif (0.0359)\n",
      "6. ac_incid (0.0238)\n",
      "7. ac_time (0.0214)\n",
      "8. othpers (0.0197)\n",
      "9. ac_proxm (0.0161)\n",
      "10. ac_evasv (0.0150)\n",
      "11. ac_cgdir (0.0149)\n",
      "12. build_M (0.0148)\n",
      "13. build_T (0.0134)\n",
      "14. inout (0.0131)\n",
      "15. ac_rept (0.0129)\n",
      "16. sex (0.0126)\n",
      "17. race_B (0.0112)\n",
      "18. race_Q (0.0105)\n",
      "19. city_BRONX (0.0100)\n",
      "20. haircolr_BK (0.0100)\n",
      "21. city_BROOKLYN (0.0097)\n",
      "22. haircolr_BR (0.0092)\n",
      "23. typeofid_V (0.0087)\n",
      "24. eyecolor_BR (0.0087)\n",
      "25. typeofid_P (0.0087)\n",
      "26. city_MANHATTAN (0.0083)\n",
      "27. city_QUEENS (0.0079)\n",
      "28. trhsloc_P (0.0077)\n",
      "29. build_H (0.0076)\n",
      "30. trhsloc_H (0.0072)\n",
      "31. ac_assoc (0.0072)\n",
      "32. eyecolor_BK (0.0072)\n",
      "33. race_P (0.0069)\n",
      "34. race_W (0.0068)\n",
      "35. ac_stsnd (0.0057)\n",
      "36. trhsloc_T (0.0048)\n",
      "37. race_A (0.0046)\n",
      "38. city_STATEN IS (0.0044)\n",
      "39. typeofid_R (0.0032)\n",
      "40. haircolr_BA (0.0030)\n",
      "41. eyecolor_BL (0.0024)\n",
      "42. haircolr_BL (0.0019)\n",
      "43. eyecolor_GR (0.0015)\n",
      "44. eyecolor_HA (0.0015)\n",
      "45. haircolr_GY (0.0014)\n",
      "46. race_I (0.0013)\n",
      "47. build_U (0.0011)\n",
      "48. haircolr_SP (0.0010)\n",
      "49. haircolr_RD (0.0004)\n",
      "50. explnstp (0.0004)\n",
      "51. eyecolor_GY (0.0004)\n",
      "52. eyecolor_DF (0.0002)\n",
      "53. haircolr_DY (0.0001)\n",
      "54. eyecolor_MA (0.0001)\n",
      "55. haircolr_SN (0.0001)\n",
      "56. eyecolor_VI (0.0000)\n",
      "57. eyecolor_PK (0.0000)\n"
     ]
    }
   ],
   "source": [
    "# Print feature ranking\n",
    "print(\"Feature Ranking (The feature importance values sum to 1):\")                 \n",
    "for f in range(x.shape[1]):\n",
    "    print(\"%d. %s (%.4f)\" % (f + 1, x.columns.values[feat_ranks[f]], importances[feat_ranks[f]]))"
   ]
  },
  {
   "cell_type": "code",
   "execution_count": 65,
   "metadata": {
    "colab": {
     "base_uri": "https://localhost:8080/",
     "height": 427
    },
    "colab_type": "code",
    "executionInfo": {
     "elapsed": 172650,
     "status": "ok",
     "timestamp": 1587353884522,
     "user": {
      "displayName": "Vee Lee Koh",
      "photoUrl": "https://lh3.googleusercontent.com/a-/AOh14Gjj2fkNUadlioLjx3UkcyKd5Ff-x9Vb-9bwf55Q6g=s64",
      "userId": "02870426395196104300"
     },
     "user_tz": 300
    },
    "id": "IUpMP-8-eek3",
    "outputId": "95adc6e1-1083-4fc5-d4ac-737aa399decf"
   },
   "outputs": [
    {
     "data": {
      "image/png": "[encoded data removed]",
      "text/plain": [
       "<Figure size 432x288 with 1 Axes>"
      ]
     },
     "metadata": {
      "needs_background": "light"
     },
     "output_type": "display_data"
    }
   ],
   "source": [
    "# Plot the feature importance                         \n",
    "plt.title(\"Feature Ranking using Random Forest Classifier\")\n",
    "plt.bar(range(x.shape[1]), importances[feat_ranks], color=\"g\", align=\"center\")\n",
    "plt.xticks(range(x.shape[1]), x.columns[feat_ranks], rotation=90)\n",
    "plt.xlim([-1, x.shape[1]]); plt.ylim(0)\n",
    "plt.subplots_adjust(left=0.0, bottom=0.0, right=1., top=1., wspace=0.2, hspace=0.2)\n",
    "plt.show()"
   ]
  },
  {
   "cell_type": "markdown",
   "metadata": {
    "colab_type": "text",
    "id": "mhB68tvTCEKt"
   },
   "source": [
    "We can see that there is a jump in the feature importance score after the 4th-ranked feature. We decided to keep the top 10 features and drop the rest of the features, as these constitute more than 70% of the total feature importances. "
   ]
  },
  {
   "cell_type": "code",
   "execution_count": 66,
   "metadata": {
    "colab": {},
    "colab_type": "code",
    "id": "Tn7QJljhD7Ao"
   },
   "outputs": [],
   "source": [
    "# Create deep copy of dataframe before filtering\n",
    "snf_data_filtered = snf_data_feat.copy()"
   ]
  },
  {
   "cell_type": "code",
   "execution_count": 67,
   "metadata": {
    "colab": {
     "base_uri": "https://localhost:8080/",
     "height": 34
    },
    "colab_type": "code",
    "executionInfo": {
     "elapsed": 169868,
     "status": "ok",
     "timestamp": 1587353884537,
     "user": {
      "displayName": "Vee Lee Koh",
      "photoUrl": "https://lh3.googleusercontent.com/a-/AOh14Gjj2fkNUadlioLjx3UkcyKd5Ff-x9Vb-9bwf55Q6g=s64",
      "userId": "02870426395196104300"
     },
     "user_tz": 300
    },
    "id": "OOHXyZzECAjB",
    "outputId": "d8b31e11-3cee-4caa-f172-b2d282e48567"
   },
   "outputs": [
    {
     "name": "stdout",
     "output_type": "stream",
     "text": [
      "Number of features to remove: 47\n"
     ]
    }
   ],
   "source": [
    "# Filter out features to the top 10 most important ones\n",
    "feat_to_filter = feat_ranks[10:]\n",
    "print(\"Number of features to remove:\", feat_to_filter.size)\n",
    "\n",
    "# Drop filtered features\n",
    "snf_data_filtered.drop(snf_data_feat.columns[feat_to_filter], axis = 1, inplace = True)"
   ]
  },
  {
   "cell_type": "code",
   "execution_count": 68,
   "metadata": {
    "colab": {
     "base_uri": "https://localhost:8080/",
     "height": 201
    },
    "colab_type": "code",
    "executionInfo": {
     "elapsed": 169281,
     "status": "ok",
     "timestamp": 1587353884540,
     "user": {
      "displayName": "Vee Lee Koh",
      "photoUrl": "https://lh3.googleusercontent.com/a-/AOh14Gjj2fkNUadlioLjx3UkcyKd5Ff-x9Vb-9bwf55Q6g=s64",
      "userId": "02870426395196104300"
     },
     "user_tz": 300
    },
    "id": "nyN5zK13ELN4",
    "outputId": "28215ebe-64c4-47bc-877c-8c45e1057f44"
   },
   "outputs": [
    {
     "data": {
      "text/html": [
       "<div>\n",
       "<style scoped>\n",
       "    .dataframe tbody tr th:only-of-type {\n",
       "        vertical-align: middle;\n",
       "    }\n",
       "\n",
       "    .dataframe tbody tr th {\n",
       "        vertical-align: top;\n",
       "    }\n",
       "\n",
       "    .dataframe thead th {\n",
       "        text-align: right;\n",
       "    }\n",
       "</style>\n",
       "<table border=\"1\" class=\"dataframe\">\n",
       "  <thead>\n",
       "    <tr style=\"text-align: right;\">\n",
       "      <th></th>\n",
       "      <th>age</th>\n",
       "      <th>height</th>\n",
       "      <th>weight</th>\n",
       "      <th>timestop</th>\n",
       "      <th>othpers</th>\n",
       "      <th>offunif</th>\n",
       "      <th>ac_proxm</th>\n",
       "      <th>ac_evasv</th>\n",
       "      <th>ac_incid</th>\n",
       "      <th>ac_time</th>\n",
       "      <th>frisked</th>\n",
       "    </tr>\n",
       "  </thead>\n",
       "  <tbody>\n",
       "    <tr>\n",
       "      <th>0</th>\n",
       "      <td>21</td>\n",
       "      <td>68</td>\n",
       "      <td>182</td>\n",
       "      <td>0</td>\n",
       "      <td>0</td>\n",
       "      <td>0</td>\n",
       "      <td>0</td>\n",
       "      <td>0</td>\n",
       "      <td>1</td>\n",
       "      <td>1</td>\n",
       "      <td>1</td>\n",
       "    </tr>\n",
       "    <tr>\n",
       "      <th>1</th>\n",
       "      <td>15</td>\n",
       "      <td>66</td>\n",
       "      <td>140</td>\n",
       "      <td>5</td>\n",
       "      <td>0</td>\n",
       "      <td>0</td>\n",
       "      <td>0</td>\n",
       "      <td>0</td>\n",
       "      <td>1</td>\n",
       "      <td>0</td>\n",
       "      <td>1</td>\n",
       "    </tr>\n",
       "    <tr>\n",
       "      <th>2</th>\n",
       "      <td>17</td>\n",
       "      <td>67</td>\n",
       "      <td>130</td>\n",
       "      <td>7</td>\n",
       "      <td>1</td>\n",
       "      <td>1</td>\n",
       "      <td>1</td>\n",
       "      <td>0</td>\n",
       "      <td>0</td>\n",
       "      <td>1</td>\n",
       "      <td>1</td>\n",
       "    </tr>\n",
       "    <tr>\n",
       "      <th>3</th>\n",
       "      <td>17</td>\n",
       "      <td>67</td>\n",
       "      <td>130</td>\n",
       "      <td>7</td>\n",
       "      <td>1</td>\n",
       "      <td>1</td>\n",
       "      <td>1</td>\n",
       "      <td>0</td>\n",
       "      <td>0</td>\n",
       "      <td>1</td>\n",
       "      <td>1</td>\n",
       "    </tr>\n",
       "    <tr>\n",
       "      <th>4</th>\n",
       "      <td>20</td>\n",
       "      <td>75</td>\n",
       "      <td>185</td>\n",
       "      <td>7</td>\n",
       "      <td>1</td>\n",
       "      <td>1</td>\n",
       "      <td>1</td>\n",
       "      <td>1</td>\n",
       "      <td>0</td>\n",
       "      <td>1</td>\n",
       "      <td>1</td>\n",
       "    </tr>\n",
       "  </tbody>\n",
       "</table>\n",
       "</div>"
      ],
      "text/plain": [
       "   age  height  weight  timestop  othpers  offunif  ac_proxm  ac_evasv  \\\n",
       "0   21      68     182         0        0        0         0         0   \n",
       "1   15      66     140         5        0        0         0         0   \n",
       "2   17      67     130         7        1        1         1         0   \n",
       "3   17      67     130         7        1        1         1         0   \n",
       "4   20      75     185         7        1        1         1         1   \n",
       "\n",
       "   ac_incid  ac_time  frisked  \n",
       "0         1        1        1  \n",
       "1         1        0        1  \n",
       "2         0        1        1  \n",
       "3         0        1        1  \n",
       "4         0        1        1  "
      ]
     },
     "execution_count": 68,
     "metadata": {},
     "output_type": "execute_result"
    }
   ],
   "source": [
    "# Check if columns removed\n",
    "snf_data_filtered.head()"
   ]
  },
  {
   "cell_type": "markdown",
   "metadata": {
    "colab_type": "text",
    "id": "StceiekgqXgt"
   },
   "source": [
    "### Perform data sampling due to large size of dataset\n",
    "\n",
    "This is to ensure our models can be run in a reasonable amount of time, given the dataset size of more than 600,000 records. "
   ]
  },
  {
   "cell_type": "code",
   "execution_count": 69,
   "metadata": {
    "colab": {
     "base_uri": "https://localhost:8080/",
     "height": 51
    },
    "colab_type": "code",
    "executionInfo": {
     "elapsed": 167672,
     "status": "ok",
     "timestamp": 1587353884543,
     "user": {
      "displayName": "Vee Lee Koh",
      "photoUrl": "https://lh3.googleusercontent.com/a-/AOh14Gjj2fkNUadlioLjx3UkcyKd5Ff-x9Vb-9bwf55Q6g=s64",
      "userId": "02870426395196104300"
     },
     "user_tz": 300
    },
    "id": "_ruMX3_wqV50",
    "outputId": "fec4426b-ac43-44c3-ea55-a166df98253e"
   },
   "outputs": [
    {
     "name": "stdout",
     "output_type": "stream",
     "text": [
      "Analysis dataset = (100000, 11)\n",
      "Ununsed dataset = (534006, 11)\n"
     ]
    }
   ],
   "source": [
    "# Sample dataset using test train split to keep records that were not sampled \n",
    "snf_data_analysis, snf_data_unused = train_test_split(snf_data_filtered, train_size=100000, random_state=100)\n",
    "\n",
    "# Display shapes of dataset\n",
    "print(\"Analysis dataset =\",snf_data_analysis.shape)\n",
    "print(\"Ununsed dataset =\",snf_data_unused.shape)"
   ]
  },
  {
   "cell_type": "code",
   "execution_count": 70,
   "metadata": {
    "colab": {
     "base_uri": "https://localhost:8080/",
     "height": 109
    },
    "colab_type": "code",
    "executionInfo": {
     "elapsed": 167565,
     "status": "ok",
     "timestamp": 1587353884795,
     "user": {
      "displayName": "Vee Lee Koh",
      "photoUrl": "https://lh3.googleusercontent.com/a-/AOh14Gjj2fkNUadlioLjx3UkcyKd5Ff-x9Vb-9bwf55Q6g=s64",
      "userId": "02870426395196104300"
     },
     "user_tz": 300
    },
    "id": "wZaIlQbFtqtE",
    "outputId": "871d7cf9-10cb-4abf-8a56-bc1eee20f47a"
   },
   "outputs": [
    {
     "data": {
      "text/html": [
       "<div>\n",
       "<style scoped>\n",
       "    .dataframe tbody tr th:only-of-type {\n",
       "        vertical-align: middle;\n",
       "    }\n",
       "\n",
       "    .dataframe tbody tr th {\n",
       "        vertical-align: top;\n",
       "    }\n",
       "\n",
       "    .dataframe thead th {\n",
       "        text-align: right;\n",
       "    }\n",
       "</style>\n",
       "<table border=\"1\" class=\"dataframe\">\n",
       "  <thead>\n",
       "    <tr style=\"text-align: right;\">\n",
       "      <th></th>\n",
       "      <th>age</th>\n",
       "      <th>height</th>\n",
       "      <th>weight</th>\n",
       "      <th>timestop</th>\n",
       "      <th>othpers</th>\n",
       "      <th>offunif</th>\n",
       "      <th>ac_proxm</th>\n",
       "      <th>ac_evasv</th>\n",
       "      <th>ac_incid</th>\n",
       "      <th>ac_time</th>\n",
       "      <th>frisked</th>\n",
       "    </tr>\n",
       "  </thead>\n",
       "  <tbody>\n",
       "    <tr>\n",
       "      <th>mean</th>\n",
       "      <td>0.148170</td>\n",
       "      <td>0.011124</td>\n",
       "      <td>0.067926</td>\n",
       "      <td>0.161121</td>\n",
       "      <td>0.222158</td>\n",
       "      <td>0.104600</td>\n",
       "      <td>0.093820</td>\n",
       "      <td>1.099161</td>\n",
       "      <td>0.099723</td>\n",
       "      <td>0.198900</td>\n",
       "      <td>0.175492</td>\n",
       "    </tr>\n",
       "    <tr>\n",
       "      <th>std</th>\n",
       "      <td>0.048711</td>\n",
       "      <td>0.266330</td>\n",
       "      <td>0.057051</td>\n",
       "      <td>0.366295</td>\n",
       "      <td>0.079941</td>\n",
       "      <td>0.095624</td>\n",
       "      <td>0.034664</td>\n",
       "      <td>0.415679</td>\n",
       "      <td>0.024669</td>\n",
       "      <td>0.026485</td>\n",
       "      <td>0.024349</td>\n",
       "    </tr>\n",
       "  </tbody>\n",
       "</table>\n",
       "</div>"
      ],
      "text/plain": [
       "           age    height    weight  timestop   othpers   offunif  ac_proxm  \\\n",
       "mean  0.148170  0.011124  0.067926  0.161121  0.222158  0.104600  0.093820   \n",
       "std   0.048711  0.266330  0.057051  0.366295  0.079941  0.095624  0.034664   \n",
       "\n",
       "      ac_evasv  ac_incid   ac_time   frisked  \n",
       "mean  1.099161  0.099723  0.198900  0.175492  \n",
       "std   0.415679  0.024669  0.026485  0.024349  "
      ]
     },
     "execution_count": 70,
     "metadata": {},
     "output_type": "execute_result"
    }
   ],
   "source": [
    "# Compare % differences in mean and std dev between analysis and full dataset, to ensure representative dataset\n",
    "analysis_dist = snf_data_analysis.describe().iloc[1:3]\n",
    "full_dist =  snf_data_filtered.describe().iloc[1:3]\n",
    "diff_dist = abs(analysis_dist - full_dist)/full_dist * 100   # compute percentage difference\n",
    "diff_dist"
   ]
  },
  {
   "cell_type": "markdown",
   "metadata": {
    "colab_type": "text",
    "id": "IXi0DwZhwIPO"
   },
   "source": [
    "Analysis dataset seems fairly representative of the full dataset - the difference in mean of the response feature (frisked) between the analysis dataset and the complete dataset is less than 0.2%."
   ]
  },
  {
   "cell_type": "code",
   "execution_count": 71,
   "metadata": {
    "colab": {
     "base_uri": "https://localhost:8080/",
     "height": 510
    },
    "colab_type": "code",
    "executionInfo": {
     "elapsed": 166473,
     "status": "ok",
     "timestamp": 1587353885196,
     "user": {
      "displayName": "Vee Lee Koh",
      "photoUrl": "https://lh3.googleusercontent.com/a-/AOh14Gjj2fkNUadlioLjx3UkcyKd5Ff-x9Vb-9bwf55Q6g=s64",
      "userId": "02870426395196104300"
     },
     "user_tz": 300
    },
    "id": "AXgzFErPX-_b",
    "outputId": "8855b30b-2288-4533-a8b0-9fa12e9825a2"
   },
   "outputs": [
    {
     "data": {
      "image/png": "[encoded data removed]",
      "text/plain": [
       "<Figure size 432x288 with 2 Axes>"
      ]
     },
     "metadata": {
      "needs_background": "light"
     },
     "output_type": "display_data"
    }
   ],
   "source": [
    "# Visualize % differences in mean and std dev between analysis and full dataset\n",
    "plt.subplot(211)\n",
    "diff_dist.loc['mean'].plot(kind='hist', bins=np.arange(0,0.45,0.025), alpha=0.9, edgecolor='black')\n",
    "# plt.xticks(range(0,36,5)); \n",
    "plt.xlim([0,0.45]); plt.yticks([0,1,2])\n",
    "plt.xlabel('Difference in Mean (%)'); plt.title('Distribution of Difference in Mean between Analysis dataset and Full dataset')\n",
    "# plt.grid()\n",
    "\n",
    "plt.subplot(212)\n",
    "diff_dist.loc['std'].plot(kind='hist', bins=np.arange(0,0.45,0.025), alpha=0.9, edgecolor='black')\n",
    "# plt.xticks(range(0,36,5)); \n",
    "plt.xlim([0,0.45]); plt.yticks([0,1,2])\n",
    "plt.xlabel('Difference in Standard Deviation (%)'); plt.title('Distribution of Difference in Standard Deviation between Analysis dataset and Full dataset')\n",
    "# plt.grid()\n",
    "\n",
    "plt.subplots_adjust(left=0.0, bottom=0.0, right=1.5, top=1.5, wspace=0.2, hspace=0.3)"
   ]
  },
  {
   "cell_type": "markdown",
   "metadata": {
    "colab_type": "text",
    "id": "5YS7mOJhgXcA"
   },
   "source": [
    "From both these histograms, we can see that the analysis dataset is representative of the full dataset due to low differences in means and standard deviations."
   ]
  },
  {
   "cell_type": "code",
   "execution_count": 72,
   "metadata": {
    "colab": {
     "base_uri": "https://localhost:8080/",
     "height": 140
    },
    "colab_type": "code",
    "executionInfo": {
     "elapsed": 164523,
     "status": "ok",
     "timestamp": 1587353885201,
     "user": {
      "displayName": "Vee Lee Koh",
      "photoUrl": "https://lh3.googleusercontent.com/a-/AOh14Gjj2fkNUadlioLjx3UkcyKd5Ff-x9Vb-9bwf55Q6g=s64",
      "userId": "02870426395196104300"
     },
     "user_tz": 300
    },
    "id": "s9Erx6OusLRK",
    "outputId": "4156464d-fdf3-41b3-f9c5-0fc70d8e8f5a"
   },
   "outputs": [
    {
     "data": {
      "text/html": [
       "<div>\n",
       "<style scoped>\n",
       "    .dataframe tbody tr th:only-of-type {\n",
       "        vertical-align: middle;\n",
       "    }\n",
       "\n",
       "    .dataframe tbody tr th {\n",
       "        vertical-align: top;\n",
       "    }\n",
       "\n",
       "    .dataframe thead th {\n",
       "        text-align: right;\n",
       "    }\n",
       "</style>\n",
       "<table border=\"1\" class=\"dataframe\">\n",
       "  <thead>\n",
       "    <tr style=\"text-align: right;\">\n",
       "      <th></th>\n",
       "      <th>age</th>\n",
       "      <th>height</th>\n",
       "      <th>weight</th>\n",
       "      <th>timestop</th>\n",
       "      <th>othpers</th>\n",
       "      <th>offunif</th>\n",
       "      <th>ac_proxm</th>\n",
       "      <th>ac_evasv</th>\n",
       "      <th>ac_incid</th>\n",
       "      <th>ac_time</th>\n",
       "      <th>frisked</th>\n",
       "    </tr>\n",
       "  </thead>\n",
       "  <tbody>\n",
       "    <tr>\n",
       "      <th>count</th>\n",
       "      <td>100000.00000</td>\n",
       "      <td>100000.000000</td>\n",
       "      <td>100000.000000</td>\n",
       "      <td>100000.000000</td>\n",
       "      <td>100000.000000</td>\n",
       "      <td>100000.000000</td>\n",
       "      <td>100000.000000</td>\n",
       "      <td>100000.000000</td>\n",
       "      <td>100000.000000</td>\n",
       "      <td>100000.000000</td>\n",
       "      <td>100000.000000</td>\n",
       "    </tr>\n",
       "    <tr>\n",
       "      <th>mean</th>\n",
       "      <td>27.83099</td>\n",
       "      <td>68.562660</td>\n",
       "      <td>168.562450</td>\n",
       "      <td>1440.327730</td>\n",
       "      <td>0.216700</td>\n",
       "      <td>0.737730</td>\n",
       "      <td>0.212590</td>\n",
       "      <td>0.195810</td>\n",
       "      <td>0.597450</td>\n",
       "      <td>0.421440</td>\n",
       "      <td>0.562390</td>\n",
       "    </tr>\n",
       "    <tr>\n",
       "      <th>std</th>\n",
       "      <td>11.67609</td>\n",
       "      <td>3.107879</td>\n",
       "      <td>28.133773</td>\n",
       "      <td>725.063588</td>\n",
       "      <td>0.411999</td>\n",
       "      <td>0.439871</td>\n",
       "      <td>0.409142</td>\n",
       "      <td>0.396825</td>\n",
       "      <td>0.490414</td>\n",
       "      <td>0.493792</td>\n",
       "      <td>0.496095</td>\n",
       "    </tr>\n",
       "  </tbody>\n",
       "</table>\n",
       "</div>"
      ],
      "text/plain": [
       "                age         height         weight       timestop  \\\n",
       "count  100000.00000  100000.000000  100000.000000  100000.000000   \n",
       "mean       27.83099      68.562660     168.562450    1440.327730   \n",
       "std        11.67609       3.107879      28.133773     725.063588   \n",
       "\n",
       "             othpers        offunif       ac_proxm       ac_evasv  \\\n",
       "count  100000.000000  100000.000000  100000.000000  100000.000000   \n",
       "mean        0.216700       0.737730       0.212590       0.195810   \n",
       "std         0.411999       0.439871       0.409142       0.396825   \n",
       "\n",
       "            ac_incid        ac_time        frisked  \n",
       "count  100000.000000  100000.000000  100000.000000  \n",
       "mean        0.597450       0.421440       0.562390  \n",
       "std         0.490414       0.493792       0.496095  "
      ]
     },
     "execution_count": 72,
     "metadata": {},
     "output_type": "execute_result"
    }
   ],
   "source": [
    "# View analysis dataset\n",
    "snf_data_analysis.describe().iloc[:3]"
   ]
  },
  {
   "cell_type": "code",
   "execution_count": 73,
   "metadata": {
    "colab": {
     "base_uri": "https://localhost:8080/",
     "height": 140
    },
    "colab_type": "code",
    "executionInfo": {
     "elapsed": 164179,
     "status": "ok",
     "timestamp": 1587353885503,
     "user": {
      "displayName": "Vee Lee Koh",
      "photoUrl": "https://lh3.googleusercontent.com/a-/AOh14Gjj2fkNUadlioLjx3UkcyKd5Ff-x9Vb-9bwf55Q6g=s64",
      "userId": "02870426395196104300"
     },
     "user_tz": 300
    },
    "id": "MclLiREVwrJw",
    "outputId": "3a2b576c-8fba-4969-d011-c728f9a651e1"
   },
   "outputs": [
    {
     "data": {
      "text/html": [
       "<div>\n",
       "<style scoped>\n",
       "    .dataframe tbody tr th:only-of-type {\n",
       "        vertical-align: middle;\n",
       "    }\n",
       "\n",
       "    .dataframe tbody tr th {\n",
       "        vertical-align: top;\n",
       "    }\n",
       "\n",
       "    .dataframe thead th {\n",
       "        text-align: right;\n",
       "    }\n",
       "</style>\n",
       "<table border=\"1\" class=\"dataframe\">\n",
       "  <thead>\n",
       "    <tr style=\"text-align: right;\">\n",
       "      <th></th>\n",
       "      <th>age</th>\n",
       "      <th>height</th>\n",
       "      <th>weight</th>\n",
       "      <th>timestop</th>\n",
       "      <th>othpers</th>\n",
       "      <th>offunif</th>\n",
       "      <th>ac_proxm</th>\n",
       "      <th>ac_evasv</th>\n",
       "      <th>ac_incid</th>\n",
       "      <th>ac_time</th>\n",
       "      <th>frisked</th>\n",
       "    </tr>\n",
       "  </thead>\n",
       "  <tbody>\n",
       "    <tr>\n",
       "      <th>count</th>\n",
       "      <td>534006.000000</td>\n",
       "      <td>534006.000000</td>\n",
       "      <td>534006.000000</td>\n",
       "      <td>534006.000000</td>\n",
       "      <td>534006.000000</td>\n",
       "      <td>534006.000000</td>\n",
       "      <td>534006.000000</td>\n",
       "      <td>534006.000000</td>\n",
       "      <td>534006.000000</td>\n",
       "      <td>534006.000000</td>\n",
       "      <td>534006.000000</td>\n",
       "    </tr>\n",
       "    <tr>\n",
       "      <th>mean</th>\n",
       "      <td>27.880022</td>\n",
       "      <td>68.571716</td>\n",
       "      <td>168.698481</td>\n",
       "      <td>1437.576911</td>\n",
       "      <td>0.217273</td>\n",
       "      <td>0.738647</td>\n",
       "      <td>0.212353</td>\n",
       "      <td>0.193282</td>\n",
       "      <td>0.598158</td>\n",
       "      <td>0.422437</td>\n",
       "      <td>0.561220</td>\n",
       "    </tr>\n",
       "    <tr>\n",
       "      <th>std</th>\n",
       "      <td>11.669336</td>\n",
       "      <td>3.117731</td>\n",
       "      <td>28.114701</td>\n",
       "      <td>728.227176</td>\n",
       "      <td>0.412390</td>\n",
       "      <td>0.439372</td>\n",
       "      <td>0.408974</td>\n",
       "      <td>0.394873</td>\n",
       "      <td>0.490271</td>\n",
       "      <td>0.493948</td>\n",
       "      <td>0.496238</td>\n",
       "    </tr>\n",
       "  </tbody>\n",
       "</table>\n",
       "</div>"
      ],
      "text/plain": [
       "                 age         height         weight       timestop  \\\n",
       "count  534006.000000  534006.000000  534006.000000  534006.000000   \n",
       "mean       27.880022      68.571716     168.698481    1437.576911   \n",
       "std        11.669336       3.117731      28.114701     728.227176   \n",
       "\n",
       "             othpers        offunif       ac_proxm       ac_evasv  \\\n",
       "count  534006.000000  534006.000000  534006.000000  534006.000000   \n",
       "mean        0.217273       0.738647       0.212353       0.193282   \n",
       "std         0.412390       0.439372       0.408974       0.394873   \n",
       "\n",
       "            ac_incid        ac_time        frisked  \n",
       "count  534006.000000  534006.000000  534006.000000  \n",
       "mean        0.598158       0.422437       0.561220  \n",
       "std         0.490271       0.493948       0.496238  "
      ]
     },
     "execution_count": 73,
     "metadata": {},
     "output_type": "execute_result"
    }
   ],
   "source": [
    "# View unused dataset\n",
    "snf_data_unused.describe().iloc[:3]"
   ]
  },
  {
   "cell_type": "markdown",
   "metadata": {
    "colab_type": "text",
    "id": "025eLoDhhJrA"
   },
   "source": [
    "Moving forward, the analysis dataset (10 predictor features, 1 response feature) will be used for data modelling and analysis. The unused dataset can be used as additional testing data, if necessary."
   ]
  },
  {
   "cell_type": "markdown",
   "metadata": {
    "colab_type": "text",
    "id": "4jfs2atwYOkd"
   },
   "source": [
    "## Data Analysis\n",
    "\n",
    "### Method 1\n",
    "\n",
    "#### SVM"
   ]
  },
  {
   "cell_type": "code",
   "execution_count": 0,
   "metadata": {
    "colab": {
     "base_uri": "https://localhost:8080/",
     "height": 272
    },
    "colab_type": "code",
    "executionInfo": {
     "elapsed": 972360,
     "status": "ok",
     "timestamp": 1587351826517,
     "user": {
      "displayName": "Clay Roberts",
      "photoUrl": "https://lh3.googleusercontent.com/a-/AOh14Giz0UJ1TSeTild7_trQ275wb0BV4sB58ID-pOZ4uQ=s64",
      "userId": "15262378552571056378"
     },
     "user_tz": 300
    },
    "id": "y4O6wo6PYUGD",
    "outputId": "3ecfe65a-4b1b-40d9-9f87-a7361e1a1201"
   },
   "outputs": [
    {
     "name": "stdout",
     "output_type": "stream",
     "text": [
      "{'svm__kernel': 'rbf'}\n",
      "Individual Accuracies: [0.622  0.608  0.6025 0.612  0.6205]\n",
      "Average Accuracy: 61.30000000000001\n",
      "[[2362 2035]\n",
      " [1803 3800]]\n",
      "              precision    recall  f1-score   support\n",
      "\n",
      "           0       0.57      0.54      0.55      4397\n",
      "           1       0.65      0.68      0.66      5603\n",
      "\n",
      "    accuracy                           0.62     10000\n",
      "   macro avg       0.61      0.61      0.61     10000\n",
      "weighted avg       0.61      0.62      0.61     10000\n",
      "\n"
     ]
    }
   ],
   "source": [
    "import warnings\n",
    "warnings.simplefilter('ignore')\n",
    "\n",
    "#Create a copy of the data to not affect the other methods and split data\n",
    "snf_data_svm = snf_data_analysis.copy()\n",
    "snf_data_svm_sample = snf_data_svm.sample(n=10000, random_state=3)\n",
    "data_Y_svm = snf_data_svm_sample['frisked']\n",
    "data_X_svm = snf_data_svm_sample.drop('frisked', axis=1)\n",
    "\n",
    "snf_data_svm_sample.shape\n",
    "\n",
    "#Create: an object to standardize the features\n",
    "#        a SVM classifier object\n",
    "#        a pipeline to train inside of the cross validation loop\n",
    "scaler_svm = sk.preprocessing.StandardScaler()\n",
    "svm = SVC()\n",
    "pipe_svm = Pipeline(steps=[('scaler', scaler_svm), ('svm', svm)])\n",
    "\n",
    "#Next, we create a grid search to find the best kernel parameters for our data\n",
    "param_grid_svm = {\n",
    "    'svm__kernel': ['linear', 'rbf', 'poly', 'sigmoid'],\n",
    "    #'svm__C':list(range(1, 11, 5)),\n",
    "}\n",
    "search_svm = GridSearchCV(pipe_svm, param_grid_svm, cv=5)\n",
    "search_svm.fit(data_X_svm, data_Y_svm)\n",
    "\n",
    "#We put the parameters found through the grid search into an\n",
    "#outer cross validation loop to evaluate accuracy of the found parameters on\n",
    "#unseen data\n",
    "nested_cv_svm = cross_val_score(search_svm, data_X_svm, data_Y_svm, cv=5)\n",
    "\n",
    "#Display best parameters and accuracies of crossvalidation\n",
    "print(search_svm.best_params_)\n",
    "print(\"Individual Accuracies:\", nested_cv_svm)                                            \n",
    "print(\"Average Accuracy:\", nested_cv_svm.mean()*100)\n",
    "\n",
    "# Get predicted classes\n",
    "pred_Y_svm = cross_val_predict(search_svm, data_X_svm, data_Y_svm, cv=10)\n",
    "\n",
    "# Print out a matrix and report to assess precision and recall\n",
    "matrix_svm = confusion_matrix(data_Y_svm, pred_Y_svm)\n",
    "print(matrix_svm)\n",
    "report_svm = classification_report(data_Y_svm, pred_Y_svm)\n",
    "print(report_svm)"
   ]
  },
  {
   "cell_type": "markdown",
   "metadata": {
    "colab_type": "text",
    "id": "ezChp4_u7BOd"
   },
   "source": [
    "### Interpreting SVM Results\n",
    "\n",
    "The accuracy for the SVM method is fairly low, around 63%, and the runtime jumps significantly when trying to run a sample size higher than n=10000. This model has trouble mainly due to the number of dimensions involved with the data, which makes finding a hyperplane throught the data computationally intensive.\n",
    "\n",
    "#### Final SVM Model Stats:  \n",
    "Accuracy - 61% | Best Kernel - Gaussian radial basis function\n"
   ]
  },
  {
   "cell_type": "markdown",
   "metadata": {
    "colab_type": "text",
    "id": "KoJ3UX60jX5d"
   },
   "source": [
    "### Method 2\n",
    "#### Naive Bayes"
   ]
  },
  {
   "cell_type": "code",
   "execution_count": 74,
   "metadata": {
    "colab": {},
    "colab_type": "code",
    "id": "fhljjPcpiJHh"
   },
   "outputs": [
    {
     "name": "stdout",
     "output_type": "stream",
     "text": [
      "0.6028491870158781\n"
     ]
    }
   ],
   "source": [
    "# Using entire dataset\n",
    "snf_data_mlp = snf_data_filtered.copy()\n",
    "\n",
    "# Separate labels from the features\n",
    "data_Y = snf_data_mlp['frisked']\n",
    "data_X = snf_data_mlp.drop('frisked', axis=1)\n",
    "\n",
    "# Create Naive Bayes classifier\n",
    "clf = GaussianNB()\n",
    "\n",
    "# Fit the model on the data\n",
    "clf = clf.fit(data_X, data_Y)\n",
    "\n",
    "# Cross validate to get accuracy\n",
    "scores = cross_val_score(clf, data_X, data_Y, cv=10)\n",
    "accuracy = scores.mean()\n",
    "print(accuracy)"
   ]
  },
  {
   "cell_type": "code",
   "execution_count": 75,
   "metadata": {
    "colab": {},
    "colab_type": "code",
    "id": "4aF7ML93Lw50"
   },
   "outputs": [
    {
     "name": "stdout",
     "output_type": "stream",
     "text": [
      "[[172648 105424]\n",
      " [146372 209562]]\n",
      "              precision    recall  f1-score   support\n",
      "\n",
      "           0       0.54      0.62      0.58    278072\n",
      "           1       0.67      0.59      0.62    355934\n",
      "\n",
      "    accuracy                           0.60    634006\n",
      "   macro avg       0.60      0.60      0.60    634006\n",
      "weighted avg       0.61      0.60      0.60    634006\n",
      "\n"
     ]
    }
   ],
   "source": [
    "# Get predicted classes\n",
    "pred_Y = cross_val_predict(clf, data_X, data_Y, cv=10)\n",
    "\n",
    "# Print out a matrix and report to assess precision and recall\n",
    "matrix = confusion_matrix(data_Y, pred_Y)\n",
    "print(matrix)\n",
    "report = classification_report(data_Y, pred_Y)\n",
    "print(report)"
   ]
  },
  {
   "cell_type": "markdown",
   "metadata": {
    "colab_type": "text",
    "id": "Xm1ET1YritPv"
   },
   "source": [
    "### Interpreting Naive Bayes Results\n",
    "\n",
    "The accuracy for the Naive Bayes classifier is slightly lower than the other two classifiers used at about 60%. It's not a good enough accuracy to be considered a good predictor of whether someone will be frisked or not; however, considering the relatively similar accuracy values to the other methods used, the runtime of naive bayes on this dataset was significantly faster. However, this method can not be further improved by tuning hyperparameters, so it will not get any better while the other two methods have the potential for better accuracies with more tuning and more data to feasibly train on.\n",
    "\n",
    "The confusion matrix reveals that the model is slightly more precise and has a slightly higher f1-score for someone who gets frisked, which is likley the result of a class imbalance (+77,862 records for class 1) and likely should be ignored for that reason.\n",
    "\n",
    "#### Final Naive Bayes Model Stats:  \n",
    "Final accuracy: 60.28%"
   ]
  },
  {
   "cell_type": "markdown",
   "metadata": {
    "colab_type": "text",
    "id": "NF-DohnLjYSb"
   },
   "source": [
    "### Method 3\n",
    "#### KNN"
   ]
  },
  {
   "cell_type": "code",
   "execution_count": 76,
   "metadata": {
    "colab": {},
    "colab_type": "code",
    "id": "e4_x7rY_jYaF"
   },
   "outputs": [
    {
     "name": "stdout",
     "output_type": "stream",
     "text": [
      "0.60808\n",
      "{'knn__n_neighbors': 29, 'knn__weights': 'uniform', 'pca__n_components': 9}\n"
     ]
    }
   ],
   "source": [
    "# Define a pipeline to search for the best combination of \n",
    "# PCA dimensions and n_neighbors.\n",
    "from sklearn.model_selection import GridSearchCV\n",
    "\n",
    "snf_data_knn = snf_data_analysis.copy()\n",
    "\n",
    "#Separate label and drop label from data\n",
    "data_Y = snf_data_knn['frisked']\n",
    "data_X = snf_data_knn.drop('frisked', axis=1)\n",
    "\n",
    "#crate a scaler\n",
    "scaler = sk.preprocessing.MinMaxScaler()\n",
    "\n",
    "#create a PCA\n",
    "pca = PCA()\n",
    "\n",
    "#create a KNN classifier\n",
    "knn = KNeighborsClassifier()\n",
    "\n",
    "#create a pipeline that does scaling, then PCA, then KNN\n",
    "pipe = Pipeline(steps=[('scaler', scaler), ('pca', pca), ('knn', knn)])\n",
    "\n",
    "#Set up the parameters you want to tune for each of your pipeline steps\n",
    "#Parameters of pipelines can be set using ‘__’ separated parameter names:\n",
    "param_grid = {\n",
    "    'pca__n_components': list(range(1, 20)), #find how many principal componenet to keep\n",
    "    'knn__n_neighbors': list(range(1, 30)),  #find the best value of k\n",
    "    'knn__weights': ['uniform', 'distance'], #find if weighting points equally (uniform) or with weights (distance) is better\n",
    "}\n",
    "\n",
    "GridCLF_pipe = GridSearchCV(pipe, param_grid, cv=5)\n",
    "GridCLF_pipe.fit(data_X, data_Y)\n",
    "print(GridCLF_pipe.best_score_)\n",
    "print(GridCLF_pipe.best_params_)"
   ]
  },
  {
   "cell_type": "markdown",
   "metadata": {
    "colab_type": "text",
    "id": "RbHmaMOXS4_L"
   },
   "source": [
    "### Interpreting KNN Results\n",
    "\n",
    "The accuracy for a KNN test with a pipeline selecting the best parameters is about 60.8%. This is not ideal for predicting whether or not someone will be frisked based on various features of their situation or physical characteristics. With further tuning of the hyperparameters, particularly the k value, this could definitely be improved.\n",
    "\n",
    "#### Final KNN Model Stats:  \n",
    "Parameters: Accuracy - 60.8% | N Neighbors - 29 | Weights - Uniform | N Components in PCA - 9"
   ]
  },
  {
   "cell_type": "markdown",
   "metadata": {
    "colab": {},
    "colab_type": "code",
    "id": "UrBWu7gTS7sP"
   },
   "source": [
    "## Conclusion\n",
    "\n",
    "Looking at the results of our models, the best model produced was the SVM model at 61% accuracy, however all 3 models produced similar results in terms of accuracy. None of the models were accurate enough to consistently predict whether someone would get frisked or not. This due to a number of factors, but ultimately the limitation on number of records that could be feasibly trained on with the compute power available kept the models from being as accurate as they could be. With further tuning of the hyperparameters and more compute time to handle training more of the dataset, the accuracy could be improved."
   ]
  }
 ],
 "metadata": {
  "colab": {
   "collapsed_sections": [],
   "name": "Project.ipynb",
   "provenance": []
  },
  "kernelspec": {
   "display_name": "Python 3",
   "language": "python",
   "name": "python3"
  },
  "language_info": {
   "codemirror_mode": {
    "name": "ipython",
    "version": 3
   },
   "file_extension": ".py",
   "mimetype": "text/x-python",
   "name": "python",
   "nbconvert_exporter": "python",
   "pygments_lexer": "ipython3",
   "version": "3.7.4"
  }
 },
 "nbformat": 4,
 "nbformat_minor": 1
}
